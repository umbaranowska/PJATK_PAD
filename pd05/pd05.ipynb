{
 "cells": [
  {
   "cell_type": "code",
   "execution_count": 1,
   "metadata": {
    "collapsed": false,
    "jupyter": {
     "outputs_hidden": false
    },
    "pycharm": {
     "name": "#%%\n"
    }
   },
   "outputs": [],
   "source": [
    "import pandas as pd"
   ]
  },
  {
   "cell_type": "markdown",
   "metadata": {
    "pycharm": {
     "name": "#%% md\n"
    }
   },
   "source": [
    "# Zadanie 1 (5 pkt)\n",
    "Wgraj zawartość pliku orders.csv do ramki danych.\n",
    "Przyjrzyj się danym, wykorzystując poznane metody (describe, info, head) zanalizuj dane."
   ]
  },
  {
   "cell_type": "code",
   "execution_count": 2,
   "metadata": {
    "collapsed": false,
    "jupyter": {
     "outputs_hidden": false
    },
    "pycharm": {
     "name": "#%%\n"
    }
   },
   "outputs": [
    {
     "name": "stdout",
     "output_type": "stream",
     "text": [
      "  order_date  pages_visited         order_id customer_id  tshirt_category  \\\n",
      "0 2016-09-04              9  HTS-038040-0002      038040  White T-Shirt M   \n",
      "1 2014-11-14             11  HTS-801797-0001      801797  White T-Shirt M   \n",
      "2 2017-02-26             10  HTS-vft1eu-0003      vft1eu  White T-Shirt F   \n",
      "3 2013-12-01             10  HTS-914324-0001      914324      Wh Tshirt F   \n",
      "4 2015-10-22             12  HTS-88ua9r-0001      88ua9r  White T-Shirt M   \n",
      "\n",
      "   tshirt_price  tshirt_quantity  \n",
      "0          20.0                1  \n",
      "1          20.0                1  \n",
      "2          18.0                3  \n",
      "3          18.0                1  \n",
      "4          20.0                1  \n",
      "<class 'pandas.core.frame.DataFrame'>\n",
      "RangeIndex: 26552 entries, 0 to 26551\n",
      "Data columns (total 7 columns):\n",
      " #   Column           Non-Null Count  Dtype         \n",
      "---  ------           --------------  -----         \n",
      " 0   order_date       26552 non-null  datetime64[ns]\n",
      " 1   pages_visited    26552 non-null  int64         \n",
      " 2   order_id         26552 non-null  object        \n",
      " 3   customer_id      26552 non-null  object        \n",
      " 4   tshirt_category  26552 non-null  object        \n",
      " 5   tshirt_price     26552 non-null  float64       \n",
      " 6   tshirt_quantity  26552 non-null  int64         \n",
      "dtypes: datetime64[ns](1), float64(1), int64(2), object(3)\n",
      "memory usage: 1.4+ MB\n",
      "None\n",
      "       pages_visited  tshirt_price  tshirt_quantity\n",
      "count   26552.000000  26552.000000     26552.000000\n",
      "mean       10.838016     20.223768         2.693394\n",
      "std         3.589299      2.220651         3.456182\n",
      "min         2.000000     17.500000         1.000000\n",
      "25%         8.000000     18.000000         1.000000\n",
      "50%        11.000000     20.000000         2.000000\n",
      "75%        13.000000     23.000000         3.000000\n",
      "max        28.000000     24.000000        29.000000\n"
     ]
    }
   ],
   "source": [
    "orders = pd.read_csv(\"orders.csv\", parse_dates=['order_date'])\n",
    "print(orders.head(5))\n",
    "print(orders.info())\n",
    "print(orders.describe())"
   ]
  },
  {
   "cell_type": "markdown",
   "metadata": {},
   "source": [
    "Następnie:\n",
    "a.\tZamień order_date na format daty. Upewnij się, że w rezultacie data będzie w formacie: rok-miesiąc-dzień;"
   ]
  },
  {
   "cell_type": "code",
   "execution_count": 3,
   "metadata": {
    "collapsed": false,
    "jupyter": {
     "outputs_hidden": false
    },
    "pycharm": {
     "name": "#%%\n"
    }
   },
   "outputs": [],
   "source": [
    "orders['order_date'] = pd.to_datetime(orders['order_date'], format='%Y-%m-%d')"
   ]
  },
  {
   "cell_type": "markdown",
   "metadata": {},
   "source": [
    "b.\tSprawdź ile i jakie unikalne wartości znajdują się w kolumnie T-shirt category;"
   ]
  },
  {
   "cell_type": "code",
   "execution_count": 4,
   "metadata": {
    "collapsed": false,
    "jupyter": {
     "outputs_hidden": false
    },
    "pycharm": {
     "name": "#%%\n"
    }
   },
   "outputs": [
    {
     "data": {
      "text/plain": [
       "Hoodie             6229\n",
       "White T-Shirt M    5547\n",
       "Black T-Shirt M    4454\n",
       "White T-Shirt F    3513\n",
       "Black T-Shirt F    3248\n",
       "Tennis Shirt       2153\n",
       "Wh Tshirt M         462\n",
       "Bl Tshirt M         377\n",
       "Wh Tshirt F         312\n",
       "Bl Tshirt F         257\n",
       "Name: tshirt_category, dtype: int64"
      ]
     },
     "execution_count": 4,
     "metadata": {},
     "output_type": "execute_result"
    }
   ],
   "source": [
    "orders['tshirt_category'].value_counts()"
   ]
  },
  {
   "cell_type": "markdown",
   "metadata": {},
   "source": [
    "c.\tWyczyść kolumnę tshirt_category normalizując nazwy produktów. Upewnij się, że dla każdej kategorii funkcjonuje jedna nazwa, np. zamiast white i wh jest tylko jedna wersja white. Skorzystaj z klasy string i metody apply;"
   ]
  },
  {
   "cell_type": "code",
   "execution_count": 5,
   "metadata": {
    "collapsed": false,
    "jupyter": {
     "outputs_hidden": false
    },
    "pycharm": {
     "name": "#%%\n"
    }
   },
   "outputs": [],
   "source": [
    "replacements_dict = {'Wh ' : 'White ', 'Bl ' : 'Black ', 'Tshirt' : 'T-Shirt'}"
   ]
  },
  {
   "cell_type": "code",
   "execution_count": 6,
   "metadata": {
    "collapsed": false,
    "jupyter": {
     "outputs_hidden": false
    },
    "pycharm": {
     "name": "#%%\n"
    }
   },
   "outputs": [
    {
     "data": {
      "text/plain": [
       "Hoodie             6229\n",
       "White T-Shirt M    6009\n",
       "Black T-Shirt M    4831\n",
       "White T-Shirt F    3825\n",
       "Black T-Shirt F    3505\n",
       "Tennis Shirt       2153\n",
       "Name: tshirt_category, dtype: int64"
      ]
     },
     "execution_count": 6,
     "metadata": {},
     "output_type": "execute_result"
    }
   ],
   "source": [
    "for (key, value) in replacements_dict.items():\n",
    "    orders['tshirt_category'] = orders['tshirt_category'].str.replace(key, value)\n",
    "    # z wykorzystaniem apply:\n",
    "    # orders['tshirt_category'] = orders['tshirt_category'].apply(lambda x: x.replace(key, value))\n",
    "orders['tshirt_category'].value_counts()"
   ]
  },
  {
   "cell_type": "markdown",
   "metadata": {},
   "source": [
    "d.\tRozdziel kolumnę tshirt category na 3 kolumny: tshirt_type, która będzie mówiła o tym czy jest to koszulka, bluza czy coś innego, tshirt_size, która będzie informowała o rozmiarze koszulki, i tshirt_colour, która będzie informowała o kolorze. Skorzystaj z metody apply."
   ]
  },
  {
   "cell_type": "code",
   "execution_count": 7,
   "metadata": {
    "collapsed": false,
    "jupyter": {
     "outputs_hidden": false
    },
    "pycharm": {
     "name": "#%%\n"
    }
   },
   "outputs": [
    {
     "name": "stderr",
     "output_type": "stream",
     "text": [
      "C:\\Users\\ulaba\\AppData\\Local\\Temp/ipykernel_17704/47530636.py:13: SettingWithCopyWarning: \n",
      "A value is trying to be set on a copy of a slice from a DataFrame\n",
      "\n",
      "See the caveats in the documentation: https://pandas.pydata.org/pandas-docs/stable/user_guide/indexing.html#returning-a-view-versus-a-copy\n",
      "  orders['tshirt_colour'][i], orders['tshirt_type'][i], orders['tshirt_size'][i]\\\n",
      "C:\\Users\\ulaba\\AppData\\Local\\Temp/ipykernel_17704/47530636.py:16: SettingWithCopyWarning: \n",
      "A value is trying to be set on a copy of a slice from a DataFrame\n",
      "\n",
      "See the caveats in the documentation: https://pandas.pydata.org/pandas-docs/stable/user_guide/indexing.html#returning-a-view-versus-a-copy\n",
      "  orders['tshirt_type'][i] = orders['tshirt_category'][i]\n"
     ]
    },
    {
     "data": {
      "text/html": [
       "<div>\n",
       "<style scoped>\n",
       "    .dataframe tbody tr th:only-of-type {\n",
       "        vertical-align: middle;\n",
       "    }\n",
       "\n",
       "    .dataframe tbody tr th {\n",
       "        vertical-align: top;\n",
       "    }\n",
       "\n",
       "    .dataframe thead th {\n",
       "        text-align: right;\n",
       "    }\n",
       "</style>\n",
       "<table border=\"1\" class=\"dataframe\">\n",
       "  <thead>\n",
       "    <tr style=\"text-align: right;\">\n",
       "      <th></th>\n",
       "      <th>order_date</th>\n",
       "      <th>pages_visited</th>\n",
       "      <th>order_id</th>\n",
       "      <th>customer_id</th>\n",
       "      <th>tshirt_category</th>\n",
       "      <th>tshirt_price</th>\n",
       "      <th>tshirt_quantity</th>\n",
       "      <th>tshirt_colour</th>\n",
       "      <th>tshirt_type</th>\n",
       "      <th>tshirt_size</th>\n",
       "    </tr>\n",
       "  </thead>\n",
       "  <tbody>\n",
       "    <tr>\n",
       "      <th>0</th>\n",
       "      <td>2016-09-04</td>\n",
       "      <td>9</td>\n",
       "      <td>HTS-038040-0002</td>\n",
       "      <td>038040</td>\n",
       "      <td>White T-Shirt M</td>\n",
       "      <td>20.0</td>\n",
       "      <td>1</td>\n",
       "      <td>White</td>\n",
       "      <td>T-Shirt</td>\n",
       "      <td>M</td>\n",
       "    </tr>\n",
       "    <tr>\n",
       "      <th>1</th>\n",
       "      <td>2014-11-14</td>\n",
       "      <td>11</td>\n",
       "      <td>HTS-801797-0001</td>\n",
       "      <td>801797</td>\n",
       "      <td>White T-Shirt M</td>\n",
       "      <td>20.0</td>\n",
       "      <td>1</td>\n",
       "      <td>White</td>\n",
       "      <td>T-Shirt</td>\n",
       "      <td>M</td>\n",
       "    </tr>\n",
       "    <tr>\n",
       "      <th>2</th>\n",
       "      <td>2017-02-26</td>\n",
       "      <td>10</td>\n",
       "      <td>HTS-vft1eu-0003</td>\n",
       "      <td>vft1eu</td>\n",
       "      <td>White T-Shirt F</td>\n",
       "      <td>18.0</td>\n",
       "      <td>3</td>\n",
       "      <td>White</td>\n",
       "      <td>T-Shirt</td>\n",
       "      <td>F</td>\n",
       "    </tr>\n",
       "    <tr>\n",
       "      <th>3</th>\n",
       "      <td>2013-12-01</td>\n",
       "      <td>10</td>\n",
       "      <td>HTS-914324-0001</td>\n",
       "      <td>914324</td>\n",
       "      <td>White T-Shirt F</td>\n",
       "      <td>18.0</td>\n",
       "      <td>1</td>\n",
       "      <td>White</td>\n",
       "      <td>T-Shirt</td>\n",
       "      <td>F</td>\n",
       "    </tr>\n",
       "    <tr>\n",
       "      <th>4</th>\n",
       "      <td>2015-10-22</td>\n",
       "      <td>12</td>\n",
       "      <td>HTS-88ua9r-0001</td>\n",
       "      <td>88ua9r</td>\n",
       "      <td>White T-Shirt M</td>\n",
       "      <td>20.0</td>\n",
       "      <td>1</td>\n",
       "      <td>White</td>\n",
       "      <td>T-Shirt</td>\n",
       "      <td>M</td>\n",
       "    </tr>\n",
       "    <tr>\n",
       "      <th>...</th>\n",
       "      <td>...</td>\n",
       "      <td>...</td>\n",
       "      <td>...</td>\n",
       "      <td>...</td>\n",
       "      <td>...</td>\n",
       "      <td>...</td>\n",
       "      <td>...</td>\n",
       "      <td>...</td>\n",
       "      <td>...</td>\n",
       "      <td>...</td>\n",
       "    </tr>\n",
       "    <tr>\n",
       "      <th>26547</th>\n",
       "      <td>2016-11-19</td>\n",
       "      <td>13</td>\n",
       "      <td>HTS-n641x4-0001</td>\n",
       "      <td>n641x4</td>\n",
       "      <td>White T-Shirt M</td>\n",
       "      <td>20.0</td>\n",
       "      <td>1</td>\n",
       "      <td>White</td>\n",
       "      <td>T-Shirt</td>\n",
       "      <td>M</td>\n",
       "    </tr>\n",
       "    <tr>\n",
       "      <th>26548</th>\n",
       "      <td>2016-08-02</td>\n",
       "      <td>4</td>\n",
       "      <td>HTS-q0nm12-0001</td>\n",
       "      <td>q0nm12</td>\n",
       "      <td>White T-Shirt M</td>\n",
       "      <td>20.0</td>\n",
       "      <td>1</td>\n",
       "      <td>White</td>\n",
       "      <td>T-Shirt</td>\n",
       "      <td>M</td>\n",
       "    </tr>\n",
       "    <tr>\n",
       "      <th>26549</th>\n",
       "      <td>2017-03-09</td>\n",
       "      <td>6</td>\n",
       "      <td>HTS-sby0iz-0001</td>\n",
       "      <td>sby0iz</td>\n",
       "      <td>White T-Shirt M</td>\n",
       "      <td>20.0</td>\n",
       "      <td>1</td>\n",
       "      <td>White</td>\n",
       "      <td>T-Shirt</td>\n",
       "      <td>M</td>\n",
       "    </tr>\n",
       "    <tr>\n",
       "      <th>26550</th>\n",
       "      <td>2016-10-04</td>\n",
       "      <td>11</td>\n",
       "      <td>HTS-uz70x4-0001</td>\n",
       "      <td>uz70x4</td>\n",
       "      <td>Hoodie</td>\n",
       "      <td>23.0</td>\n",
       "      <td>5</td>\n",
       "      <td>None</td>\n",
       "      <td>Hoodie</td>\n",
       "      <td>None</td>\n",
       "    </tr>\n",
       "    <tr>\n",
       "      <th>26551</th>\n",
       "      <td>2016-12-16</td>\n",
       "      <td>9</td>\n",
       "      <td>HTS-xnbc22-0001</td>\n",
       "      <td>xnbc22</td>\n",
       "      <td>Black T-Shirt M</td>\n",
       "      <td>19.0</td>\n",
       "      <td>3</td>\n",
       "      <td>Black</td>\n",
       "      <td>T-Shirt</td>\n",
       "      <td>M</td>\n",
       "    </tr>\n",
       "  </tbody>\n",
       "</table>\n",
       "<p>26552 rows × 10 columns</p>\n",
       "</div>"
      ],
      "text/plain": [
       "      order_date  pages_visited         order_id customer_id  tshirt_category  \\\n",
       "0     2016-09-04              9  HTS-038040-0002      038040  White T-Shirt M   \n",
       "1     2014-11-14             11  HTS-801797-0001      801797  White T-Shirt M   \n",
       "2     2017-02-26             10  HTS-vft1eu-0003      vft1eu  White T-Shirt F   \n",
       "3     2013-12-01             10  HTS-914324-0001      914324  White T-Shirt F   \n",
       "4     2015-10-22             12  HTS-88ua9r-0001      88ua9r  White T-Shirt M   \n",
       "...          ...            ...              ...         ...              ...   \n",
       "26547 2016-11-19             13  HTS-n641x4-0001      n641x4  White T-Shirt M   \n",
       "26548 2016-08-02              4  HTS-q0nm12-0001      q0nm12  White T-Shirt M   \n",
       "26549 2017-03-09              6  HTS-sby0iz-0001      sby0iz  White T-Shirt M   \n",
       "26550 2016-10-04             11  HTS-uz70x4-0001      uz70x4           Hoodie   \n",
       "26551 2016-12-16              9  HTS-xnbc22-0001      xnbc22  Black T-Shirt M   \n",
       "\n",
       "       tshirt_price  tshirt_quantity tshirt_colour tshirt_type tshirt_size  \n",
       "0              20.0                1         White     T-Shirt           M  \n",
       "1              20.0                1         White     T-Shirt           M  \n",
       "2              18.0                3         White     T-Shirt           F  \n",
       "3              18.0                1         White     T-Shirt           F  \n",
       "4              20.0                1         White     T-Shirt           M  \n",
       "...             ...              ...           ...         ...         ...  \n",
       "26547          20.0                1         White     T-Shirt           M  \n",
       "26548          20.0                1         White     T-Shirt           M  \n",
       "26549          20.0                1         White     T-Shirt           M  \n",
       "26550          23.0                5          None      Hoodie        None  \n",
       "26551          19.0                3         Black     T-Shirt           M  \n",
       "\n",
       "[26552 rows x 10 columns]"
      ]
     },
     "execution_count": 7,
     "metadata": {},
     "output_type": "execute_result"
    }
   ],
   "source": [
    "# ogólnie w tym wypadku tam gdzie jest mniej niż jedna spacja jest tylko typ produktu, \n",
    "# więc wystarczy podzielić kolumnę na spacji ale tylko tam gdzie wartość zawiera 2 spacje\n",
    "orders['split_tshirt_category'] = orders['tshirt_category']\\\n",
    "    .apply(lambda x: 1 if len(x.split(' ')) == 3 else 0)\n",
    "\n",
    "lista = [None for i in range(len(orders['tshirt_category']))]\n",
    "orders['tshirt_colour'] = lista\n",
    "orders['tshirt_type'] = lista\n",
    "orders['tshirt_size'] = lista\n",
    "\n",
    "for i in range(len(orders['tshirt_category'])):\n",
    "    if orders['split_tshirt_category'][i] == 1:\n",
    "        orders['tshirt_colour'][i], orders['tshirt_type'][i], orders['tshirt_size'][i]\\\n",
    "        = orders['tshirt_category'][i].split(' ')\n",
    "    else:\n",
    "        orders['tshirt_type'][i] = orders['tshirt_category'][i]\n",
    "        \n",
    "orders.drop(columns=['split_tshirt_category'])"
   ]
  },
  {
   "cell_type": "code",
   "execution_count": 8,
   "metadata": {},
   "outputs": [
    {
     "name": "stdout",
     "output_type": "stream",
     "text": [
      "   order_date  pages_visited         order_id customer_id tshirt_category  \\\n",
      "6  2014-11-25              6  HTS-479441-0001      479441          Hoodie   \n",
      "12 2015-11-24             15  HTS-je57lh-0001      je57lh          Hoodie   \n",
      "16 2015-10-09             10  HTS-989355-0003      989355          Hoodie   \n",
      "\n",
      "    tshirt_price  tshirt_quantity  split_tshirt_category tshirt_colour  \\\n",
      "6           23.0               19                      0          None   \n",
      "12          23.0                3                      0          None   \n",
      "16          23.0                2                      0          None   \n",
      "\n",
      "   tshirt_type tshirt_size  \n",
      "6       Hoodie        None  \n",
      "12      Hoodie        None  \n",
      "16      Hoodie        None  \n",
      "  order_date  pages_visited         order_id customer_id  tshirt_category  \\\n",
      "2 2017-02-26             10  HTS-vft1eu-0003      vft1eu  White T-Shirt F   \n",
      "3 2013-12-01             10  HTS-914324-0001      914324  White T-Shirt F   \n",
      "8 2013-11-03             10  HTS-494332-0001      494332  White T-Shirt F   \n",
      "\n",
      "   tshirt_price  tshirt_quantity  split_tshirt_category tshirt_colour  \\\n",
      "2          18.0                3                      1         White   \n",
      "3          18.0                1                      1         White   \n",
      "8          18.0                2                      1         White   \n",
      "\n",
      "  tshirt_type tshirt_size  \n",
      "2     T-Shirt           F  \n",
      "3     T-Shirt           F  \n",
      "8     T-Shirt           F  \n"
     ]
    }
   ],
   "source": [
    "# kilka przykładów\n",
    "print(orders[orders['tshirt_category'] == 'Hoodie'][:3])\n",
    "print(orders[orders['tshirt_category'] == 'White T-Shirt F'][:3])"
   ]
  },
  {
   "cell_type": "code",
   "execution_count": 9,
   "metadata": {
    "collapsed": false,
    "jupyter": {
     "outputs_hidden": false
    },
    "pycharm": {
     "name": "#%%\n"
    }
   },
   "outputs": [],
   "source": [
    "# alternatywnie można znormalizować jeszcze bardziej nazwy produktów do formatu kolor-typ-rozmiar i następnie split,\n",
    "# ew. stworzyć listy dozwolonych wartości dla koloru, typu i rozmiaru\n",
    "#i dla każdego wiersza zwracać odpowiedni fragment z tshirt_type który znajduje się na takiej liście do odpowiedniej kolumny"
   ]
  },
  {
   "cell_type": "markdown",
   "metadata": {},
   "source": [
    "e.\tZnajdź zamówienia złożone między 31 grudnia 2014 a 2 sierpnia 2016."
   ]
  },
  {
   "cell_type": "code",
   "execution_count": 10,
   "metadata": {},
   "outputs": [],
   "source": [
    "date_from = pd.to_datetime('2014-12-31', format='%Y-%m-%d')\n",
    "date_to = pd.to_datetime('2016-08-02 23:59:59', format='%Y-%m-%d %H:%M:%S')\n",
    "\n",
    "punkt_e = orders[(orders['order_date'] >= date_from) & (orders['order_date'] <= date_to)]"
   ]
  },
  {
   "cell_type": "markdown",
   "metadata": {
    "tags": []
   },
   "source": [
    "# Zadanie 2 (4 pkt)\n",
    "Wgraj plik customers.csv do ramki danych. Następnie:"
   ]
  },
  {
   "cell_type": "code",
   "execution_count": 11,
   "metadata": {},
   "outputs": [
    {
     "data": {
      "text/html": [
       "<div>\n",
       "<style scoped>\n",
       "    .dataframe tbody tr th:only-of-type {\n",
       "        vertical-align: middle;\n",
       "    }\n",
       "\n",
       "    .dataframe tbody tr th {\n",
       "        vertical-align: top;\n",
       "    }\n",
       "\n",
       "    .dataframe thead th {\n",
       "        text-align: right;\n",
       "    }\n",
       "</style>\n",
       "<table border=\"1\" class=\"dataframe\">\n",
       "  <thead>\n",
       "    <tr style=\"text-align: right;\">\n",
       "      <th></th>\n",
       "      <th>customerID</th>\n",
       "      <th>gender</th>\n",
       "      <th>birthdate</th>\n",
       "      <th>user_agent</th>\n",
       "      <th>ip_address</th>\n",
       "      <th>campaign</th>\n",
       "    </tr>\n",
       "  </thead>\n",
       "  <tbody>\n",
       "    <tr>\n",
       "      <th>0</th>\n",
       "      <td>886900</td>\n",
       "      <td>M</td>\n",
       "      <td>1953/10/5</td>\n",
       "      <td>Mozilla/5.0 (Windows NT 10.0; Win64; x64) Appl...</td>\n",
       "      <td>69.8.136.110</td>\n",
       "      <td>False</td>\n",
       "    </tr>\n",
       "    <tr>\n",
       "      <th>1</th>\n",
       "      <td>038040</td>\n",
       "      <td>F</td>\n",
       "      <td>1946/12/21</td>\n",
       "      <td>Mozilla/5.0 (Windows NT 10.0; WOW64) AppleWebK...</td>\n",
       "      <td>67.74.254.174</td>\n",
       "      <td>False</td>\n",
       "    </tr>\n",
       "    <tr>\n",
       "      <th>2</th>\n",
       "      <td>698696</td>\n",
       "      <td>F</td>\n",
       "      <td>1983/12/1</td>\n",
       "      <td>Mozilla/5.0 (Windows NT 6.3; WOW64) AppleWebKi...</td>\n",
       "      <td>95.135.70.206</td>\n",
       "      <td>False</td>\n",
       "    </tr>\n",
       "    <tr>\n",
       "      <th>3</th>\n",
       "      <td>sn9keh</td>\n",
       "      <td>M</td>\n",
       "      <td>1990/9/23</td>\n",
       "      <td>Mozilla/5.0 (Macintosh; Intel Mac OS X 10_11_6...</td>\n",
       "      <td>129.50.205.26</td>\n",
       "      <td>False</td>\n",
       "    </tr>\n",
       "    <tr>\n",
       "      <th>4</th>\n",
       "      <td>496907</td>\n",
       "      <td>M</td>\n",
       "      <td>1869/6/8</td>\n",
       "      <td>Mozilla/5.0 (Windows NT 6.1; Win64; x64) Apple...</td>\n",
       "      <td>81.98.234.29</td>\n",
       "      <td>False</td>\n",
       "    </tr>\n",
       "  </tbody>\n",
       "</table>\n",
       "</div>"
      ],
      "text/plain": [
       "  customerID gender   birthdate  \\\n",
       "0     886900      M   1953/10/5   \n",
       "1     038040      F  1946/12/21   \n",
       "2     698696      F   1983/12/1   \n",
       "3     sn9keh      M   1990/9/23   \n",
       "4     496907      M    1869/6/8   \n",
       "\n",
       "                                          user_agent     ip_address  campaign  \n",
       "0  Mozilla/5.0 (Windows NT 10.0; Win64; x64) Appl...   69.8.136.110     False  \n",
       "1  Mozilla/5.0 (Windows NT 10.0; WOW64) AppleWebK...  67.74.254.174     False  \n",
       "2  Mozilla/5.0 (Windows NT 6.3; WOW64) AppleWebKi...  95.135.70.206     False  \n",
       "3  Mozilla/5.0 (Macintosh; Intel Mac OS X 10_11_6...  129.50.205.26     False  \n",
       "4  Mozilla/5.0 (Windows NT 6.1; Win64; x64) Apple...   81.98.234.29     False  "
      ]
     },
     "execution_count": 11,
     "metadata": {},
     "output_type": "execute_result"
    }
   ],
   "source": [
    "customers = pd.read_csv('customers.csv')\n",
    "customers.head(5)"
   ]
  },
  {
   "cell_type": "markdown",
   "metadata": {},
   "source": [
    "a.\tWypisz kolumny;"
   ]
  },
  {
   "cell_type": "code",
   "execution_count": 12,
   "metadata": {},
   "outputs": [
    {
     "data": {
      "text/plain": [
       "Index(['customerID', 'gender', 'birthdate', 'user_agent', 'ip_address',\n",
       "       'campaign'],\n",
       "      dtype='object')"
      ]
     },
     "execution_count": 12,
     "metadata": {},
     "output_type": "execute_result"
    }
   ],
   "source": [
    "customers.columns"
   ]
  },
  {
   "cell_type": "markdown",
   "metadata": {},
   "source": [
    "b.\tPorównaj rozmiar ramki z rozmiarem ramki w zadaniu 1;"
   ]
  },
  {
   "cell_type": "code",
   "execution_count": 13,
   "metadata": {},
   "outputs": [
    {
     "name": "stdout",
     "output_type": "stream",
     "text": [
      "(26552, 11) (18766, 6)\n"
     ]
    }
   ],
   "source": [
    "print(orders.shape, customers.shape)"
   ]
  },
  {
   "cell_type": "markdown",
   "metadata": {},
   "source": [
    "c.\tZmień nazwę kolumny customerID  na customer_id upewniając się, że dane zmiana zostanie zapisana w pamięci dzięki jednemu z argumentów metody do zmiany nazwy kolumny;"
   ]
  },
  {
   "cell_type": "code",
   "execution_count": 14,
   "metadata": {},
   "outputs": [
    {
     "data": {
      "text/html": [
       "<div>\n",
       "<style scoped>\n",
       "    .dataframe tbody tr th:only-of-type {\n",
       "        vertical-align: middle;\n",
       "    }\n",
       "\n",
       "    .dataframe tbody tr th {\n",
       "        vertical-align: top;\n",
       "    }\n",
       "\n",
       "    .dataframe thead th {\n",
       "        text-align: right;\n",
       "    }\n",
       "</style>\n",
       "<table border=\"1\" class=\"dataframe\">\n",
       "  <thead>\n",
       "    <tr style=\"text-align: right;\">\n",
       "      <th></th>\n",
       "      <th>customer_id</th>\n",
       "      <th>gender</th>\n",
       "      <th>birthdate</th>\n",
       "      <th>user_agent</th>\n",
       "      <th>ip_address</th>\n",
       "      <th>campaign</th>\n",
       "    </tr>\n",
       "  </thead>\n",
       "  <tbody>\n",
       "    <tr>\n",
       "      <th>0</th>\n",
       "      <td>886900</td>\n",
       "      <td>M</td>\n",
       "      <td>1953/10/5</td>\n",
       "      <td>Mozilla/5.0 (Windows NT 10.0; Win64; x64) Appl...</td>\n",
       "      <td>69.8.136.110</td>\n",
       "      <td>False</td>\n",
       "    </tr>\n",
       "    <tr>\n",
       "      <th>1</th>\n",
       "      <td>038040</td>\n",
       "      <td>F</td>\n",
       "      <td>1946/12/21</td>\n",
       "      <td>Mozilla/5.0 (Windows NT 10.0; WOW64) AppleWebK...</td>\n",
       "      <td>67.74.254.174</td>\n",
       "      <td>False</td>\n",
       "    </tr>\n",
       "    <tr>\n",
       "      <th>2</th>\n",
       "      <td>698696</td>\n",
       "      <td>F</td>\n",
       "      <td>1983/12/1</td>\n",
       "      <td>Mozilla/5.0 (Windows NT 6.3; WOW64) AppleWebKi...</td>\n",
       "      <td>95.135.70.206</td>\n",
       "      <td>False</td>\n",
       "    </tr>\n",
       "    <tr>\n",
       "      <th>3</th>\n",
       "      <td>sn9keh</td>\n",
       "      <td>M</td>\n",
       "      <td>1990/9/23</td>\n",
       "      <td>Mozilla/5.0 (Macintosh; Intel Mac OS X 10_11_6...</td>\n",
       "      <td>129.50.205.26</td>\n",
       "      <td>False</td>\n",
       "    </tr>\n",
       "    <tr>\n",
       "      <th>4</th>\n",
       "      <td>496907</td>\n",
       "      <td>M</td>\n",
       "      <td>1869/6/8</td>\n",
       "      <td>Mozilla/5.0 (Windows NT 6.1; Win64; x64) Apple...</td>\n",
       "      <td>81.98.234.29</td>\n",
       "      <td>False</td>\n",
       "    </tr>\n",
       "  </tbody>\n",
       "</table>\n",
       "</div>"
      ],
      "text/plain": [
       "  customer_id gender   birthdate  \\\n",
       "0      886900      M   1953/10/5   \n",
       "1      038040      F  1946/12/21   \n",
       "2      698696      F   1983/12/1   \n",
       "3      sn9keh      M   1990/9/23   \n",
       "4      496907      M    1869/6/8   \n",
       "\n",
       "                                          user_agent     ip_address  campaign  \n",
       "0  Mozilla/5.0 (Windows NT 10.0; Win64; x64) Appl...   69.8.136.110     False  \n",
       "1  Mozilla/5.0 (Windows NT 10.0; WOW64) AppleWebK...  67.74.254.174     False  \n",
       "2  Mozilla/5.0 (Windows NT 6.3; WOW64) AppleWebKi...  95.135.70.206     False  \n",
       "3  Mozilla/5.0 (Macintosh; Intel Mac OS X 10_11_6...  129.50.205.26     False  \n",
       "4  Mozilla/5.0 (Windows NT 6.1; Win64; x64) Apple...   81.98.234.29     False  "
      ]
     },
     "execution_count": 14,
     "metadata": {},
     "output_type": "execute_result"
    }
   ],
   "source": [
    "customers.rename(columns = {'customerID' : 'customer_id'}, inplace = True)\n",
    "customers.head(5)"
   ]
  },
  {
   "cell_type": "markdown",
   "metadata": {},
   "source": [
    "d.\tPołącz ramkę orders z ramką customers po kolumnie customer_id. Z której metody skorzystasz? Zostaw odpowiedź w komentarzu do zadania w kodzie (np. blok komentarzem ‘’’ ‘’’)."
   ]
  },
  {
   "cell_type": "code",
   "execution_count": 15,
   "metadata": {},
   "outputs": [
    {
     "data": {
      "text/html": [
       "<div>\n",
       "<style scoped>\n",
       "    .dataframe tbody tr th:only-of-type {\n",
       "        vertical-align: middle;\n",
       "    }\n",
       "\n",
       "    .dataframe tbody tr th {\n",
       "        vertical-align: top;\n",
       "    }\n",
       "\n",
       "    .dataframe thead th {\n",
       "        text-align: right;\n",
       "    }\n",
       "</style>\n",
       "<table border=\"1\" class=\"dataframe\">\n",
       "  <thead>\n",
       "    <tr style=\"text-align: right;\">\n",
       "      <th></th>\n",
       "      <th>order_date</th>\n",
       "      <th>pages_visited</th>\n",
       "      <th>order_id</th>\n",
       "      <th>customer_id</th>\n",
       "      <th>tshirt_category</th>\n",
       "      <th>tshirt_price</th>\n",
       "      <th>tshirt_quantity</th>\n",
       "      <th>split_tshirt_category</th>\n",
       "      <th>tshirt_colour</th>\n",
       "      <th>tshirt_type</th>\n",
       "      <th>tshirt_size</th>\n",
       "      <th>gender</th>\n",
       "      <th>birthdate</th>\n",
       "      <th>user_agent</th>\n",
       "      <th>ip_address</th>\n",
       "      <th>campaign</th>\n",
       "    </tr>\n",
       "  </thead>\n",
       "  <tbody>\n",
       "    <tr>\n",
       "      <th>0</th>\n",
       "      <td>2016-09-04</td>\n",
       "      <td>9</td>\n",
       "      <td>HTS-038040-0002</td>\n",
       "      <td>038040</td>\n",
       "      <td>White T-Shirt M</td>\n",
       "      <td>20.0</td>\n",
       "      <td>1</td>\n",
       "      <td>1</td>\n",
       "      <td>White</td>\n",
       "      <td>T-Shirt</td>\n",
       "      <td>M</td>\n",
       "      <td>F</td>\n",
       "      <td>1946/12/21</td>\n",
       "      <td>Mozilla/5.0 (Windows NT 10.0; WOW64) AppleWebK...</td>\n",
       "      <td>67.74.254.174</td>\n",
       "      <td>False</td>\n",
       "    </tr>\n",
       "    <tr>\n",
       "      <th>1</th>\n",
       "      <td>2014-11-14</td>\n",
       "      <td>11</td>\n",
       "      <td>HTS-801797-0001</td>\n",
       "      <td>801797</td>\n",
       "      <td>White T-Shirt M</td>\n",
       "      <td>20.0</td>\n",
       "      <td>1</td>\n",
       "      <td>1</td>\n",
       "      <td>White</td>\n",
       "      <td>T-Shirt</td>\n",
       "      <td>M</td>\n",
       "      <td>M</td>\n",
       "      <td>1956/7/19</td>\n",
       "      <td>Mozilla/5.0 (Windows NT 10.0; Win64; x64) Appl...</td>\n",
       "      <td>137.155.219.158</td>\n",
       "      <td>False</td>\n",
       "    </tr>\n",
       "    <tr>\n",
       "      <th>2</th>\n",
       "      <td>2017-02-26</td>\n",
       "      <td>10</td>\n",
       "      <td>HTS-vft1eu-0003</td>\n",
       "      <td>vft1eu</td>\n",
       "      <td>White T-Shirt F</td>\n",
       "      <td>18.0</td>\n",
       "      <td>3</td>\n",
       "      <td>1</td>\n",
       "      <td>White</td>\n",
       "      <td>T-Shirt</td>\n",
       "      <td>F</td>\n",
       "      <td>F</td>\n",
       "      <td>1969/6/27</td>\n",
       "      <td>Mozilla/5.0 (Macintosh; Intel Mac OS X 10_12_3...</td>\n",
       "      <td>53.115.6.106</td>\n",
       "      <td>True</td>\n",
       "    </tr>\n",
       "    <tr>\n",
       "      <th>3</th>\n",
       "      <td>2013-12-01</td>\n",
       "      <td>10</td>\n",
       "      <td>HTS-914324-0001</td>\n",
       "      <td>914324</td>\n",
       "      <td>White T-Shirt F</td>\n",
       "      <td>18.0</td>\n",
       "      <td>1</td>\n",
       "      <td>1</td>\n",
       "      <td>White</td>\n",
       "      <td>T-Shirt</td>\n",
       "      <td>F</td>\n",
       "      <td>F</td>\n",
       "      <td>1959/10/22</td>\n",
       "      <td>Mozilla/5.0 (Windows NT 10.0; WOW64) AppleWebK...</td>\n",
       "      <td>51.99.199.27</td>\n",
       "      <td>False</td>\n",
       "    </tr>\n",
       "    <tr>\n",
       "      <th>4</th>\n",
       "      <td>2015-10-22</td>\n",
       "      <td>12</td>\n",
       "      <td>HTS-88ua9r-0001</td>\n",
       "      <td>88ua9r</td>\n",
       "      <td>White T-Shirt M</td>\n",
       "      <td>20.0</td>\n",
       "      <td>1</td>\n",
       "      <td>1</td>\n",
       "      <td>White</td>\n",
       "      <td>T-Shirt</td>\n",
       "      <td>M</td>\n",
       "      <td>F</td>\n",
       "      <td>1985/4/14</td>\n",
       "      <td>Mozilla/5.0 (Macintosh; Intel Mac OS X 10_11_6...</td>\n",
       "      <td>169.15.143.204</td>\n",
       "      <td>True</td>\n",
       "    </tr>\n",
       "  </tbody>\n",
       "</table>\n",
       "</div>"
      ],
      "text/plain": [
       "  order_date  pages_visited         order_id customer_id  tshirt_category  \\\n",
       "0 2016-09-04              9  HTS-038040-0002      038040  White T-Shirt M   \n",
       "1 2014-11-14             11  HTS-801797-0001      801797  White T-Shirt M   \n",
       "2 2017-02-26             10  HTS-vft1eu-0003      vft1eu  White T-Shirt F   \n",
       "3 2013-12-01             10  HTS-914324-0001      914324  White T-Shirt F   \n",
       "4 2015-10-22             12  HTS-88ua9r-0001      88ua9r  White T-Shirt M   \n",
       "\n",
       "   tshirt_price  tshirt_quantity  split_tshirt_category tshirt_colour  \\\n",
       "0          20.0                1                      1         White   \n",
       "1          20.0                1                      1         White   \n",
       "2          18.0                3                      1         White   \n",
       "3          18.0                1                      1         White   \n",
       "4          20.0                1                      1         White   \n",
       "\n",
       "  tshirt_type tshirt_size gender   birthdate  \\\n",
       "0     T-Shirt           M      F  1946/12/21   \n",
       "1     T-Shirt           M      M   1956/7/19   \n",
       "2     T-Shirt           F      F   1969/6/27   \n",
       "3     T-Shirt           F      F  1959/10/22   \n",
       "4     T-Shirt           M      F   1985/4/14   \n",
       "\n",
       "                                          user_agent       ip_address campaign  \n",
       "0  Mozilla/5.0 (Windows NT 10.0; WOW64) AppleWebK...    67.74.254.174    False  \n",
       "1  Mozilla/5.0 (Windows NT 10.0; Win64; x64) Appl...  137.155.219.158    False  \n",
       "2  Mozilla/5.0 (Macintosh; Intel Mac OS X 10_12_3...     53.115.6.106     True  \n",
       "3  Mozilla/5.0 (Windows NT 10.0; WOW64) AppleWebK...     51.99.199.27    False  \n",
       "4  Mozilla/5.0 (Macintosh; Intel Mac OS X 10_11_6...   169.15.143.204     True  "
      ]
     },
     "execution_count": 15,
     "metadata": {},
     "output_type": "execute_result"
    }
   ],
   "source": [
    "nowa_ramka = orders.merge(customers, on='customer_id', how='left')\n",
    "nowa_ramka.head(5)\n",
    "# merge po kolumnie customer_id\n",
    "# (join robiłby to raczej po indexie więc najpierw w obu trzeba by było zamienić customer_id na index_"
   ]
  },
  {
   "cell_type": "markdown",
   "metadata": {
    "tags": []
   },
   "source": [
    "# Zadanie 3 (1 pkt)\n",
    "Nową ramkę (połączenie orders i customers) zapisz do pliku csv, ale zapisz bez kolumny z indeksem.\n"
   ]
  },
  {
   "cell_type": "code",
   "execution_count": 16,
   "metadata": {},
   "outputs": [],
   "source": [
    "nowa_ramka.to_csv('zad3_wynik.csv', index=False)"
   ]
  }
 ],
 "metadata": {
  "kernelspec": {
   "display_name": "Python 3 (ipykernel)",
   "language": "python",
   "name": "python3"
  },
  "language_info": {
   "codemirror_mode": {
    "name": "ipython",
    "version": 3
   },
   "file_extension": ".py",
   "mimetype": "text/x-python",
   "name": "python",
   "nbconvert_exporter": "python",
   "pygments_lexer": "ipython3",
   "version": "3.9.7"
  }
 },
 "nbformat": 4,
 "nbformat_minor": 4
}
