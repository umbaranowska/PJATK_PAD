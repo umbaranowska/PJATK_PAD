{
 "cells": [
  {
   "cell_type": "code",
   "execution_count": 1,
   "outputs": [],
   "source": [
    "import pandas as pd\n",
    "import numpy as np"
   ],
   "metadata": {
    "collapsed": false,
    "pycharm": {
     "name": "#%%\n"
    }
   }
  },
  {
   "cell_type": "markdown",
   "source": [
    "# Zadanie 1\n",
    "Wgraj plik DANE_PAD_03.csv jako ramkę danych."
   ],
   "metadata": {
    "collapsed": false
   }
  },
  {
   "cell_type": "code",
   "execution_count": 2,
   "outputs": [
    {
     "data": {
      "text/plain": "   ID Country  owns_car  owns_TV  owns_house  owns_Phone gender  Age\n0   1       A       0.0      0.0         0.0           1      M   61\n1   2       B       0.0      0.0         0.0           1      M   44\n2   3       A       0.0      0.0         0.0           1      M   56\n3   4       A       0.0      0.0         0.0           1      M   53\n4   5       C       1.0      1.0         0.0           1      K   60",
      "text/html": "<div>\n<style scoped>\n    .dataframe tbody tr th:only-of-type {\n        vertical-align: middle;\n    }\n\n    .dataframe tbody tr th {\n        vertical-align: top;\n    }\n\n    .dataframe thead th {\n        text-align: right;\n    }\n</style>\n<table border=\"1\" class=\"dataframe\">\n  <thead>\n    <tr style=\"text-align: right;\">\n      <th></th>\n      <th>ID</th>\n      <th>Country</th>\n      <th>owns_car</th>\n      <th>owns_TV</th>\n      <th>owns_house</th>\n      <th>owns_Phone</th>\n      <th>gender</th>\n      <th>Age</th>\n    </tr>\n  </thead>\n  <tbody>\n    <tr>\n      <th>0</th>\n      <td>1</td>\n      <td>A</td>\n      <td>0.0</td>\n      <td>0.0</td>\n      <td>0.0</td>\n      <td>1</td>\n      <td>M</td>\n      <td>61</td>\n    </tr>\n    <tr>\n      <th>1</th>\n      <td>2</td>\n      <td>B</td>\n      <td>0.0</td>\n      <td>0.0</td>\n      <td>0.0</td>\n      <td>1</td>\n      <td>M</td>\n      <td>44</td>\n    </tr>\n    <tr>\n      <th>2</th>\n      <td>3</td>\n      <td>A</td>\n      <td>0.0</td>\n      <td>0.0</td>\n      <td>0.0</td>\n      <td>1</td>\n      <td>M</td>\n      <td>56</td>\n    </tr>\n    <tr>\n      <th>3</th>\n      <td>4</td>\n      <td>A</td>\n      <td>0.0</td>\n      <td>0.0</td>\n      <td>0.0</td>\n      <td>1</td>\n      <td>M</td>\n      <td>53</td>\n    </tr>\n    <tr>\n      <th>4</th>\n      <td>5</td>\n      <td>C</td>\n      <td>1.0</td>\n      <td>1.0</td>\n      <td>0.0</td>\n      <td>1</td>\n      <td>K</td>\n      <td>60</td>\n    </tr>\n  </tbody>\n</table>\n</div>"
     },
     "execution_count": 2,
     "metadata": {},
     "output_type": "execute_result"
    }
   ],
   "source": [
    "data = pd.read_csv('PAD_03_PD.csv', sep = ';')\n",
    "data.head(5)"
   ],
   "metadata": {
    "collapsed": false,
    "pycharm": {
     "name": "#%%\n"
    }
   }
  },
  {
   "cell_type": "code",
   "execution_count": 3,
   "outputs": [
    {
     "data": {
      "text/plain": "             ID    owns_car     owns_TV  owns_house  owns_Phone         Age\ncount  800.0000  798.000000  798.000000  794.000000  800.000000  800.000000\nmean   400.5000    0.234336    0.446115    0.200252    0.943750   43.295000\nstd    231.0844    0.423849    0.497400    0.400441    0.230548   14.333607\nmin      1.0000    0.000000    0.000000    0.000000    0.000000   18.000000\n25%    200.7500    0.000000    0.000000    0.000000    1.000000   31.000000\n50%    400.5000    0.000000    0.000000    0.000000    1.000000   44.000000\n75%    600.2500    0.000000    1.000000    0.000000    1.000000   56.000000\nmax    800.0000    1.000000    1.000000    1.000000    1.000000   67.000000",
      "text/html": "<div>\n<style scoped>\n    .dataframe tbody tr th:only-of-type {\n        vertical-align: middle;\n    }\n\n    .dataframe tbody tr th {\n        vertical-align: top;\n    }\n\n    .dataframe thead th {\n        text-align: right;\n    }\n</style>\n<table border=\"1\" class=\"dataframe\">\n  <thead>\n    <tr style=\"text-align: right;\">\n      <th></th>\n      <th>ID</th>\n      <th>owns_car</th>\n      <th>owns_TV</th>\n      <th>owns_house</th>\n      <th>owns_Phone</th>\n      <th>Age</th>\n    </tr>\n  </thead>\n  <tbody>\n    <tr>\n      <th>count</th>\n      <td>800.0000</td>\n      <td>798.000000</td>\n      <td>798.000000</td>\n      <td>794.000000</td>\n      <td>800.000000</td>\n      <td>800.000000</td>\n    </tr>\n    <tr>\n      <th>mean</th>\n      <td>400.5000</td>\n      <td>0.234336</td>\n      <td>0.446115</td>\n      <td>0.200252</td>\n      <td>0.943750</td>\n      <td>43.295000</td>\n    </tr>\n    <tr>\n      <th>std</th>\n      <td>231.0844</td>\n      <td>0.423849</td>\n      <td>0.497400</td>\n      <td>0.400441</td>\n      <td>0.230548</td>\n      <td>14.333607</td>\n    </tr>\n    <tr>\n      <th>min</th>\n      <td>1.0000</td>\n      <td>0.000000</td>\n      <td>0.000000</td>\n      <td>0.000000</td>\n      <td>0.000000</td>\n      <td>18.000000</td>\n    </tr>\n    <tr>\n      <th>25%</th>\n      <td>200.7500</td>\n      <td>0.000000</td>\n      <td>0.000000</td>\n      <td>0.000000</td>\n      <td>1.000000</td>\n      <td>31.000000</td>\n    </tr>\n    <tr>\n      <th>50%</th>\n      <td>400.5000</td>\n      <td>0.000000</td>\n      <td>0.000000</td>\n      <td>0.000000</td>\n      <td>1.000000</td>\n      <td>44.000000</td>\n    </tr>\n    <tr>\n      <th>75%</th>\n      <td>600.2500</td>\n      <td>0.000000</td>\n      <td>1.000000</td>\n      <td>0.000000</td>\n      <td>1.000000</td>\n      <td>56.000000</td>\n    </tr>\n    <tr>\n      <th>max</th>\n      <td>800.0000</td>\n      <td>1.000000</td>\n      <td>1.000000</td>\n      <td>1.000000</td>\n      <td>1.000000</td>\n      <td>67.000000</td>\n    </tr>\n  </tbody>\n</table>\n</div>"
     },
     "execution_count": 3,
     "metadata": {},
     "output_type": "execute_result"
    }
   ],
   "source": [
    "data.describe()"
   ],
   "metadata": {
    "collapsed": false,
    "pycharm": {
     "name": "#%%\n"
    }
   }
  },
  {
   "cell_type": "markdown",
   "source": [
    "UWAGA! W przypadku wartości brakujących: albo dodać najbardziej popularną wartość albo usunąć wiersz."
   ],
   "metadata": {
    "collapsed": false,
    "pycharm": {
     "name": "#%% md\n"
    }
   }
  },
  {
   "cell_type": "code",
   "execution_count": 4,
   "outputs": [
    {
     "data": {
      "text/plain": "      ID Country  owns_car  owns_TV  owns_house  owns_Phone gender  Age\n31    32       C       1.0      1.0         1.0           1    NaN   60\n50    51       A       0.0      NaN         0.0           1      M   37\n72    73       A       NaN      0.0         0.0           1      M   45\n75    76       B       0.0      0.0         NaN           1      M   39\n106  107       B       0.0      0.0         NaN           1      M   36\n128  129       A       0.0      0.0         NaN           1      M   66\n155  156       C       1.0      1.0         NaN           1      K   27\n174  175       A       0.0      0.0         0.0           1    NaN   64\n176  177       C       0.0      1.0         NaN           1      K   49\n199  200       A       0.0      0.0         0.0           1    NaN   59\n240  241       B       0.0      1.0         0.0           1    NaN   51\n278  279     NaN       0.0      1.0         0.0           1      K   24\n279  280     NaN       0.0      0.0         0.0           1      M   33\n280  281     NaN       0.0      0.0         0.0           1      M   45\n281  282     NaN       0.0      0.0         0.0           1      M   51\n282  283     NaN       0.0      0.0         0.0           1      M   60\n283  284     NaN       0.0      0.0         0.0           1      M   64\n284  285     NaN       0.0      0.0         0.0           1      M   19\n335  336       B       0.0      0.0         NaN           1      M   67\n337  338       C       NaN      1.0         0.0           1      K   34\n358  359       C       1.0      1.0         0.0           1    NaN   45\n361  362       B       0.0      NaN         0.0           1      M   30",
      "text/html": "<div>\n<style scoped>\n    .dataframe tbody tr th:only-of-type {\n        vertical-align: middle;\n    }\n\n    .dataframe tbody tr th {\n        vertical-align: top;\n    }\n\n    .dataframe thead th {\n        text-align: right;\n    }\n</style>\n<table border=\"1\" class=\"dataframe\">\n  <thead>\n    <tr style=\"text-align: right;\">\n      <th></th>\n      <th>ID</th>\n      <th>Country</th>\n      <th>owns_car</th>\n      <th>owns_TV</th>\n      <th>owns_house</th>\n      <th>owns_Phone</th>\n      <th>gender</th>\n      <th>Age</th>\n    </tr>\n  </thead>\n  <tbody>\n    <tr>\n      <th>31</th>\n      <td>32</td>\n      <td>C</td>\n      <td>1.0</td>\n      <td>1.0</td>\n      <td>1.0</td>\n      <td>1</td>\n      <td>NaN</td>\n      <td>60</td>\n    </tr>\n    <tr>\n      <th>50</th>\n      <td>51</td>\n      <td>A</td>\n      <td>0.0</td>\n      <td>NaN</td>\n      <td>0.0</td>\n      <td>1</td>\n      <td>M</td>\n      <td>37</td>\n    </tr>\n    <tr>\n      <th>72</th>\n      <td>73</td>\n      <td>A</td>\n      <td>NaN</td>\n      <td>0.0</td>\n      <td>0.0</td>\n      <td>1</td>\n      <td>M</td>\n      <td>45</td>\n    </tr>\n    <tr>\n      <th>75</th>\n      <td>76</td>\n      <td>B</td>\n      <td>0.0</td>\n      <td>0.0</td>\n      <td>NaN</td>\n      <td>1</td>\n      <td>M</td>\n      <td>39</td>\n    </tr>\n    <tr>\n      <th>106</th>\n      <td>107</td>\n      <td>B</td>\n      <td>0.0</td>\n      <td>0.0</td>\n      <td>NaN</td>\n      <td>1</td>\n      <td>M</td>\n      <td>36</td>\n    </tr>\n    <tr>\n      <th>128</th>\n      <td>129</td>\n      <td>A</td>\n      <td>0.0</td>\n      <td>0.0</td>\n      <td>NaN</td>\n      <td>1</td>\n      <td>M</td>\n      <td>66</td>\n    </tr>\n    <tr>\n      <th>155</th>\n      <td>156</td>\n      <td>C</td>\n      <td>1.0</td>\n      <td>1.0</td>\n      <td>NaN</td>\n      <td>1</td>\n      <td>K</td>\n      <td>27</td>\n    </tr>\n    <tr>\n      <th>174</th>\n      <td>175</td>\n      <td>A</td>\n      <td>0.0</td>\n      <td>0.0</td>\n      <td>0.0</td>\n      <td>1</td>\n      <td>NaN</td>\n      <td>64</td>\n    </tr>\n    <tr>\n      <th>176</th>\n      <td>177</td>\n      <td>C</td>\n      <td>0.0</td>\n      <td>1.0</td>\n      <td>NaN</td>\n      <td>1</td>\n      <td>K</td>\n      <td>49</td>\n    </tr>\n    <tr>\n      <th>199</th>\n      <td>200</td>\n      <td>A</td>\n      <td>0.0</td>\n      <td>0.0</td>\n      <td>0.0</td>\n      <td>1</td>\n      <td>NaN</td>\n      <td>59</td>\n    </tr>\n    <tr>\n      <th>240</th>\n      <td>241</td>\n      <td>B</td>\n      <td>0.0</td>\n      <td>1.0</td>\n      <td>0.0</td>\n      <td>1</td>\n      <td>NaN</td>\n      <td>51</td>\n    </tr>\n    <tr>\n      <th>278</th>\n      <td>279</td>\n      <td>NaN</td>\n      <td>0.0</td>\n      <td>1.0</td>\n      <td>0.0</td>\n      <td>1</td>\n      <td>K</td>\n      <td>24</td>\n    </tr>\n    <tr>\n      <th>279</th>\n      <td>280</td>\n      <td>NaN</td>\n      <td>0.0</td>\n      <td>0.0</td>\n      <td>0.0</td>\n      <td>1</td>\n      <td>M</td>\n      <td>33</td>\n    </tr>\n    <tr>\n      <th>280</th>\n      <td>281</td>\n      <td>NaN</td>\n      <td>0.0</td>\n      <td>0.0</td>\n      <td>0.0</td>\n      <td>1</td>\n      <td>M</td>\n      <td>45</td>\n    </tr>\n    <tr>\n      <th>281</th>\n      <td>282</td>\n      <td>NaN</td>\n      <td>0.0</td>\n      <td>0.0</td>\n      <td>0.0</td>\n      <td>1</td>\n      <td>M</td>\n      <td>51</td>\n    </tr>\n    <tr>\n      <th>282</th>\n      <td>283</td>\n      <td>NaN</td>\n      <td>0.0</td>\n      <td>0.0</td>\n      <td>0.0</td>\n      <td>1</td>\n      <td>M</td>\n      <td>60</td>\n    </tr>\n    <tr>\n      <th>283</th>\n      <td>284</td>\n      <td>NaN</td>\n      <td>0.0</td>\n      <td>0.0</td>\n      <td>0.0</td>\n      <td>1</td>\n      <td>M</td>\n      <td>64</td>\n    </tr>\n    <tr>\n      <th>284</th>\n      <td>285</td>\n      <td>NaN</td>\n      <td>0.0</td>\n      <td>0.0</td>\n      <td>0.0</td>\n      <td>1</td>\n      <td>M</td>\n      <td>19</td>\n    </tr>\n    <tr>\n      <th>335</th>\n      <td>336</td>\n      <td>B</td>\n      <td>0.0</td>\n      <td>0.0</td>\n      <td>NaN</td>\n      <td>1</td>\n      <td>M</td>\n      <td>67</td>\n    </tr>\n    <tr>\n      <th>337</th>\n      <td>338</td>\n      <td>C</td>\n      <td>NaN</td>\n      <td>1.0</td>\n      <td>0.0</td>\n      <td>1</td>\n      <td>K</td>\n      <td>34</td>\n    </tr>\n    <tr>\n      <th>358</th>\n      <td>359</td>\n      <td>C</td>\n      <td>1.0</td>\n      <td>1.0</td>\n      <td>0.0</td>\n      <td>1</td>\n      <td>NaN</td>\n      <td>45</td>\n    </tr>\n    <tr>\n      <th>361</th>\n      <td>362</td>\n      <td>B</td>\n      <td>0.0</td>\n      <td>NaN</td>\n      <td>0.0</td>\n      <td>1</td>\n      <td>M</td>\n      <td>30</td>\n    </tr>\n  </tbody>\n</table>\n</div>"
     },
     "execution_count": 4,
     "metadata": {},
     "output_type": "execute_result"
    }
   ],
   "source": [
    "data[data.isna().any(axis=1)]"
   ],
   "metadata": {
    "collapsed": false,
    "pycharm": {
     "name": "#%%\n"
    }
   }
  },
  {
   "cell_type": "code",
   "execution_count": 5,
   "outputs": [],
   "source": [
    "data = data[data.isna().any(axis=1) == False]"
   ],
   "metadata": {
    "collapsed": false,
    "pycharm": {
     "name": "#%%\n"
    }
   }
  },
  {
   "cell_type": "code",
   "execution_count": 6,
   "outputs": [
    {
     "data": {
      "text/plain": "               ID    owns_car     owns_TV  owns_house  owns_Phone         Age\ncount  778.000000  778.000000  778.000000  778.000000  778.000000  778.000000\nmean   405.673522    0.236504    0.448586    0.203085    0.942159   43.227506\nstd    231.606790    0.425208    0.497670    0.402554    0.233592   14.329490\nmin      1.000000    0.000000    0.000000    0.000000    0.000000   18.000000\n25%    205.250000    0.000000    0.000000    0.000000    1.000000   31.000000\n50%    411.500000    0.000000    0.000000    0.000000    1.000000   44.000000\n75%    605.750000    0.000000    1.000000    0.000000    1.000000   56.000000\nmax    800.000000    1.000000    1.000000    1.000000    1.000000   67.000000",
      "text/html": "<div>\n<style scoped>\n    .dataframe tbody tr th:only-of-type {\n        vertical-align: middle;\n    }\n\n    .dataframe tbody tr th {\n        vertical-align: top;\n    }\n\n    .dataframe thead th {\n        text-align: right;\n    }\n</style>\n<table border=\"1\" class=\"dataframe\">\n  <thead>\n    <tr style=\"text-align: right;\">\n      <th></th>\n      <th>ID</th>\n      <th>owns_car</th>\n      <th>owns_TV</th>\n      <th>owns_house</th>\n      <th>owns_Phone</th>\n      <th>Age</th>\n    </tr>\n  </thead>\n  <tbody>\n    <tr>\n      <th>count</th>\n      <td>778.000000</td>\n      <td>778.000000</td>\n      <td>778.000000</td>\n      <td>778.000000</td>\n      <td>778.000000</td>\n      <td>778.000000</td>\n    </tr>\n    <tr>\n      <th>mean</th>\n      <td>405.673522</td>\n      <td>0.236504</td>\n      <td>0.448586</td>\n      <td>0.203085</td>\n      <td>0.942159</td>\n      <td>43.227506</td>\n    </tr>\n    <tr>\n      <th>std</th>\n      <td>231.606790</td>\n      <td>0.425208</td>\n      <td>0.497670</td>\n      <td>0.402554</td>\n      <td>0.233592</td>\n      <td>14.329490</td>\n    </tr>\n    <tr>\n      <th>min</th>\n      <td>1.000000</td>\n      <td>0.000000</td>\n      <td>0.000000</td>\n      <td>0.000000</td>\n      <td>0.000000</td>\n      <td>18.000000</td>\n    </tr>\n    <tr>\n      <th>25%</th>\n      <td>205.250000</td>\n      <td>0.000000</td>\n      <td>0.000000</td>\n      <td>0.000000</td>\n      <td>1.000000</td>\n      <td>31.000000</td>\n    </tr>\n    <tr>\n      <th>50%</th>\n      <td>411.500000</td>\n      <td>0.000000</td>\n      <td>0.000000</td>\n      <td>0.000000</td>\n      <td>1.000000</td>\n      <td>44.000000</td>\n    </tr>\n    <tr>\n      <th>75%</th>\n      <td>605.750000</td>\n      <td>0.000000</td>\n      <td>1.000000</td>\n      <td>0.000000</td>\n      <td>1.000000</td>\n      <td>56.000000</td>\n    </tr>\n    <tr>\n      <th>max</th>\n      <td>800.000000</td>\n      <td>1.000000</td>\n      <td>1.000000</td>\n      <td>1.000000</td>\n      <td>1.000000</td>\n      <td>67.000000</td>\n    </tr>\n  </tbody>\n</table>\n</div>"
     },
     "execution_count": 6,
     "metadata": {},
     "output_type": "execute_result"
    }
   ],
   "source": [
    "data.describe()"
   ],
   "metadata": {
    "collapsed": false,
    "pycharm": {
     "name": "#%%\n"
    }
   }
  },
  {
   "cell_type": "markdown",
   "source": [
    "Oblicz liczebność każdej z wartości w zmiennej COUNTRY."
   ],
   "metadata": {
    "collapsed": false,
    "pycharm": {
     "name": "#%% md\n"
    }
   }
  },
  {
   "cell_type": "code",
   "execution_count": 7,
   "outputs": [
    {
     "data": {
      "text/plain": "A    323\nB    196\nC    181\nD     78\nName: Country, dtype: int64"
     },
     "execution_count": 7,
     "metadata": {},
     "output_type": "execute_result"
    }
   ],
   "source": [
    "data['Country'].value_counts()"
   ],
   "metadata": {
    "collapsed": false,
    "pycharm": {
     "name": "#%%\n"
    }
   }
  },
  {
   "cell_type": "markdown",
   "source": [
    "# Zadanie 2\n",
    "W nowej kolumnie ‘owned_goods’ dodaj zmienną, która będzie informowała o liczbie posiadanych dóbr\n",
    "(zliczyć ile dana osoba posiada w sumie dóbr)."
   ],
   "metadata": {
    "collapsed": false
   }
  },
  {
   "cell_type": "code",
   "execution_count": 8,
   "outputs": [
    {
     "data": {
      "text/plain": "   ID Country  owns_car  owns_TV  owns_house  owns_Phone gender  Age  \\\n0   1       A       0.0      0.0         0.0           1      M   61   \n1   2       B       0.0      0.0         0.0           1      M   44   \n2   3       A       0.0      0.0         0.0           1      M   56   \n3   4       A       0.0      0.0         0.0           1      M   53   \n4   5       C       1.0      1.0         0.0           1      K   60   \n5   6       A       0.0      0.0         0.0           1      M   48   \n6   7       D       1.0      1.0         1.0           1      K   58   \n7   8       C       0.0      1.0         0.0           1      K   59   \n8   9       A       0.0      0.0         0.0           1      M   61   \n9  10       A       0.0      0.0         0.0           1      M   48   \n\n   owned_goods  \n0          1.0  \n1          1.0  \n2          1.0  \n3          1.0  \n4          3.0  \n5          1.0  \n6          4.0  \n7          2.0  \n8          1.0  \n9          1.0  ",
      "text/html": "<div>\n<style scoped>\n    .dataframe tbody tr th:only-of-type {\n        vertical-align: middle;\n    }\n\n    .dataframe tbody tr th {\n        vertical-align: top;\n    }\n\n    .dataframe thead th {\n        text-align: right;\n    }\n</style>\n<table border=\"1\" class=\"dataframe\">\n  <thead>\n    <tr style=\"text-align: right;\">\n      <th></th>\n      <th>ID</th>\n      <th>Country</th>\n      <th>owns_car</th>\n      <th>owns_TV</th>\n      <th>owns_house</th>\n      <th>owns_Phone</th>\n      <th>gender</th>\n      <th>Age</th>\n      <th>owned_goods</th>\n    </tr>\n  </thead>\n  <tbody>\n    <tr>\n      <th>0</th>\n      <td>1</td>\n      <td>A</td>\n      <td>0.0</td>\n      <td>0.0</td>\n      <td>0.0</td>\n      <td>1</td>\n      <td>M</td>\n      <td>61</td>\n      <td>1.0</td>\n    </tr>\n    <tr>\n      <th>1</th>\n      <td>2</td>\n      <td>B</td>\n      <td>0.0</td>\n      <td>0.0</td>\n      <td>0.0</td>\n      <td>1</td>\n      <td>M</td>\n      <td>44</td>\n      <td>1.0</td>\n    </tr>\n    <tr>\n      <th>2</th>\n      <td>3</td>\n      <td>A</td>\n      <td>0.0</td>\n      <td>0.0</td>\n      <td>0.0</td>\n      <td>1</td>\n      <td>M</td>\n      <td>56</td>\n      <td>1.0</td>\n    </tr>\n    <tr>\n      <th>3</th>\n      <td>4</td>\n      <td>A</td>\n      <td>0.0</td>\n      <td>0.0</td>\n      <td>0.0</td>\n      <td>1</td>\n      <td>M</td>\n      <td>53</td>\n      <td>1.0</td>\n    </tr>\n    <tr>\n      <th>4</th>\n      <td>5</td>\n      <td>C</td>\n      <td>1.0</td>\n      <td>1.0</td>\n      <td>0.0</td>\n      <td>1</td>\n      <td>K</td>\n      <td>60</td>\n      <td>3.0</td>\n    </tr>\n    <tr>\n      <th>5</th>\n      <td>6</td>\n      <td>A</td>\n      <td>0.0</td>\n      <td>0.0</td>\n      <td>0.0</td>\n      <td>1</td>\n      <td>M</td>\n      <td>48</td>\n      <td>1.0</td>\n    </tr>\n    <tr>\n      <th>6</th>\n      <td>7</td>\n      <td>D</td>\n      <td>1.0</td>\n      <td>1.0</td>\n      <td>1.0</td>\n      <td>1</td>\n      <td>K</td>\n      <td>58</td>\n      <td>4.0</td>\n    </tr>\n    <tr>\n      <th>7</th>\n      <td>8</td>\n      <td>C</td>\n      <td>0.0</td>\n      <td>1.0</td>\n      <td>0.0</td>\n      <td>1</td>\n      <td>K</td>\n      <td>59</td>\n      <td>2.0</td>\n    </tr>\n    <tr>\n      <th>8</th>\n      <td>9</td>\n      <td>A</td>\n      <td>0.0</td>\n      <td>0.0</td>\n      <td>0.0</td>\n      <td>1</td>\n      <td>M</td>\n      <td>61</td>\n      <td>1.0</td>\n    </tr>\n    <tr>\n      <th>9</th>\n      <td>10</td>\n      <td>A</td>\n      <td>0.0</td>\n      <td>0.0</td>\n      <td>0.0</td>\n      <td>1</td>\n      <td>M</td>\n      <td>48</td>\n      <td>1.0</td>\n    </tr>\n  </tbody>\n</table>\n</div>"
     },
     "execution_count": 8,
     "metadata": {},
     "output_type": "execute_result"
    }
   ],
   "source": [
    "data['owned_goods'] = data['owns_car'] + data['owns_TV'] + data['owns_house'] + data['owns_Phone']\n",
    "data.head(10)"
   ],
   "metadata": {
    "collapsed": false,
    "pycharm": {
     "name": "#%%\n"
    }
   }
  },
  {
   "cell_type": "markdown",
   "id": "720d9c4e-9333-4239-891f-0bc717c19c4d",
   "metadata": {},
   "source": [
    "# Zadanie 3\n",
    "Porównaj średnią posiadanych dóbr między kobietami i mężczyznami.  \n",
    "Wynik zaokrąglij do 2 miejsc po przecinku."
   ]
  },
  {
   "cell_type": "code",
   "execution_count": 9,
   "outputs": [
    {
     "data": {
      "text/plain": "  gender  owned_goods\n0      K         2.80\n1      M         0.89",
      "text/html": "<div>\n<style scoped>\n    .dataframe tbody tr th:only-of-type {\n        vertical-align: middle;\n    }\n\n    .dataframe tbody tr th {\n        vertical-align: top;\n    }\n\n    .dataframe thead th {\n        text-align: right;\n    }\n</style>\n<table border=\"1\" class=\"dataframe\">\n  <thead>\n    <tr style=\"text-align: right;\">\n      <th></th>\n      <th>gender</th>\n      <th>owned_goods</th>\n    </tr>\n  </thead>\n  <tbody>\n    <tr>\n      <th>0</th>\n      <td>K</td>\n      <td>2.80</td>\n    </tr>\n    <tr>\n      <th>1</th>\n      <td>M</td>\n      <td>0.89</td>\n    </tr>\n  </tbody>\n</table>\n</div>"
     },
     "execution_count": 9,
     "metadata": {},
     "output_type": "execute_result"
    }
   ],
   "source": [
    "data.groupby('gender').agg({'owned_goods' : 'mean'}).reset_index().round(2)"
   ],
   "metadata": {
    "collapsed": false,
    "pycharm": {
     "name": "#%%\n"
    }
   }
  },
  {
   "cell_type": "markdown",
   "id": "2afaa624-ecdb-4b2a-bad5-152379b37f2a",
   "metadata": {},
   "source": [
    "# Zadanie 4\n",
    "Stwórz ramkę danych, która zawierać będzie w pierwszej kolumnie wartość zmiennej COUNTRY,  \n",
    "w drugiej kolumnie, średnią posiadanych dóbr w danym kraju  \n",
    "(Wynik zaokrąglij do 2 miejsc po przecink),  \n",
    "a w trzeciej kolumnie minimum wieku.\n",
    "\n"
   ]
  },
  {
   "cell_type": "code",
   "execution_count": 10,
   "outputs": [
    {
     "data": {
      "text/plain": "  Country  owned_goods  Age\n0       A         0.86   18\n1       B         1.46   18\n2       C         3.03   18\n3       D         4.00   18",
      "text/html": "<div>\n<style scoped>\n    .dataframe tbody tr th:only-of-type {\n        vertical-align: middle;\n    }\n\n    .dataframe tbody tr th {\n        vertical-align: top;\n    }\n\n    .dataframe thead th {\n        text-align: right;\n    }\n</style>\n<table border=\"1\" class=\"dataframe\">\n  <thead>\n    <tr style=\"text-align: right;\">\n      <th></th>\n      <th>Country</th>\n      <th>owned_goods</th>\n      <th>Age</th>\n    </tr>\n  </thead>\n  <tbody>\n    <tr>\n      <th>0</th>\n      <td>A</td>\n      <td>0.86</td>\n      <td>18</td>\n    </tr>\n    <tr>\n      <th>1</th>\n      <td>B</td>\n      <td>1.46</td>\n      <td>18</td>\n    </tr>\n    <tr>\n      <th>2</th>\n      <td>C</td>\n      <td>3.03</td>\n      <td>18</td>\n    </tr>\n    <tr>\n      <th>3</th>\n      <td>D</td>\n      <td>4.00</td>\n      <td>18</td>\n    </tr>\n  </tbody>\n</table>\n</div>"
     },
     "execution_count": 10,
     "metadata": {},
     "output_type": "execute_result"
    }
   ],
   "source": [
    "data.groupby('Country').agg({'owned_goods' : 'mean', 'Age' : 'min'}).reset_index().round(2)"
   ],
   "metadata": {
    "collapsed": false,
    "pycharm": {
     "name": "#%%\n"
    }
   }
  }
 ],
 "metadata": {
  "kernelspec": {
   "display_name": "Python 3 (ipykernel)",
   "language": "python",
   "name": "python3"
  },
  "language_info": {
   "codemirror_mode": {
    "name": "ipython",
    "version": 3
   },
   "file_extension": ".py",
   "mimetype": "text/x-python",
   "name": "python",
   "nbconvert_exporter": "python",
   "pygments_lexer": "ipython3",
   "version": "3.9.7"
  }
 },
 "nbformat": 4,
 "nbformat_minor": 5
}