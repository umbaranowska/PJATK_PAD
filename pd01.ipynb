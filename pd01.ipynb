{
 "cells": [
  {
   "cell_type": "markdown",
   "id": "a5de699d-c355-4e4c-ab36-b9a8d16c5d86",
   "metadata": {
    "jp-MarkdownHeadingCollapsed": true,
    "tags": []
   },
   "source": [
    "# Zadanie 1  \n",
    "a)\tStwórz klasy dog i cat, które dziedziczyć będą po klasie animal.  \n",
    "Klasa animal ma następujące atrybuty:  \n",
    "isAlive = True  \n",
    "gender = Do wyboru Male/Female (domyślnie Female)  \n",
    "genus = nazwa gatunkowa (Canis dla psa, Felis  - dla kota)  \n",
    "klasa animal posiada też metodę breed o parametrze partner. Metoda ta ma zwracać instancję klasy animal, typu tego samego, co instancja, w której wywołujemy metodę breed pod warunkiem, że instancja dla której wywołujemy metodę:  \n",
    "a) Jest samicą  \n",
    "b) Partner jest samcem  \n",
    "c) Instancja oraz partner należą do jednego gatunku  \n",
    "Klasa dog posiada metodę woof, zwracającą string woof woof.  \n",
    "Klasa cat posiada metodę purr, zwracającą string purr.  \n",
    "b)\tStwórz instancję klas dog i cat, za pomocą metody breed. Do metody breed instrukcję przechwytywania wyjątku, która wyświetli string attribute not found, jeżeli podany w parametrze partner nie posiada niezbędnych atrybutów.\n"
   ]
  },
  {
   "cell_type": "code",
   "execution_count": 1,
   "id": "6559e729-542f-45fb-b1ee-42e62f7bfac7",
   "metadata": {},
   "outputs": [],
   "source": [
    "class animal():\n",
    "    def __init__(self, isAlive = True, gender = 'Female', genus = None):\n",
    "        self.isAlive = isAlive\n",
    "        self.gender = gender\n",
    "        self.genus = genus\n",
    "    def __str__(self):\n",
    "        # w tym zadaniu będzie dużo wygodniej jeśli print() będzie zwracał więcej informacji\n",
    "        # jeśli zwierzę żyje to jakiej jest płci i rodzaju, jeśli jest martwe - po prostu że jest martwe\n",
    "        if self.isAlive:\n",
    "            return f'This animal is a {self.gender}, {self.genus}'\n",
    "        else:\n",
    "            return 'This animal is dead'\n",
    "    def breed(self, partner):\n",
    "        assert partner.gender in ['Male', 'Female'], 'string attribute not found'\n",
    "        assert partner.genus in ['Canis', 'Felis'], 'string attribute not found'\n",
    "        if self.gender == 'Female' and partner.gender == 'Male' and self.genus == partner.genus:\n",
    "            return animal(genus = self.genus)\n",
    "        else:\n",
    "        # dodatkowo jeśli te zwierzęta nie mogą mieć potomstwa zwraca błąd\n",
    "            raise NameError('These two animals cannot breed!')\n",
    "            \n",
    "class dog(animal):\n",
    "    def __init__(self, isAlive = True, gender = 'Female', genus = 'Canis'):\n",
    "        animal.__init__(self, isAlive = isAlive, gender = gender, genus = genus)\n",
    "    def woof_woof(self):\n",
    "        return 'woof woof'\n",
    "    \n",
    "class cat(animal):\n",
    "    def __init__(self, isAlive = True, gender = 'Female', genus = 'Felis'):\n",
    "        animal.__init__(self, isAlive = isAlive, gender = gender, genus = genus)\n",
    "    def purr(self):\n",
    "        return 'purr'"
   ]
  },
  {
   "cell_type": "code",
   "execution_count": 2,
   "id": "cb0b2431-69d8-46a9-a4fe-4d590af577c9",
   "metadata": {},
   "outputs": [
    {
     "name": "stdout",
     "output_type": "stream",
     "text": [
      "This animal is a Female, Felis\n",
      "This animal is a Male, Felis\n",
      "This animal is a Female, Felis\n",
      "This animal is a Male, Canis\n",
      "This animal is dead\n",
      "This animal is a None, Canis\n"
     ]
    }
   ],
   "source": [
    "# przykładowe zwierzęta i testowanie funkcji\n",
    "c1 = cat()\n",
    "print(c1)\n",
    "c2 = cat(gender = 'Male')\n",
    "print(c2)\n",
    "c3 = cat()\n",
    "print(c3)\n",
    "d1 = dog(gender = 'Male')\n",
    "print(d1)\n",
    "d2 = dog(isAlive = False)\n",
    "print(d2)\n",
    "d3 = dog(gender = None)\n",
    "print(d3)"
   ]
  },
  {
   "cell_type": "code",
   "execution_count": 3,
   "id": "22f28773-8c56-428d-9ecf-7e14151b2274",
   "metadata": {},
   "outputs": [
    {
     "name": "stdout",
     "output_type": "stream",
     "text": [
      "This animal is a Female, Felis\n",
      "This animal is a Male, Felis\n",
      "This animal is a Female, Felis\n"
     ]
    }
   ],
   "source": [
    "print(c1)\n",
    "print(c2)\n",
    "print(c1.breed(c2))"
   ]
  },
  {
   "cell_type": "code",
   "execution_count": 4,
   "id": "12b8a20f-12fa-48b8-8cc4-42dccea164b7",
   "metadata": {},
   "outputs": [
    {
     "name": "stdout",
     "output_type": "stream",
     "text": [
      "This animal is a Female, Felis\n",
      "This animal is a Female, Felis\n"
     ]
    },
    {
     "ename": "NameError",
     "evalue": "These two animals cannot breed!",
     "output_type": "error",
     "traceback": [
      "\u001b[1;31m---------------------------------------------------------------------------\u001b[0m",
      "\u001b[1;31mNameError\u001b[0m                                 Traceback (most recent call last)",
      "\u001b[1;32m~\\AppData\\Local\\Temp/ipykernel_21036/1309818836.py\u001b[0m in \u001b[0;36m<module>\u001b[1;34m\u001b[0m\n\u001b[0;32m      1\u001b[0m \u001b[0mprint\u001b[0m\u001b[1;33m(\u001b[0m\u001b[0mc1\u001b[0m\u001b[1;33m)\u001b[0m\u001b[1;33m\u001b[0m\u001b[1;33m\u001b[0m\u001b[0m\n\u001b[0;32m      2\u001b[0m \u001b[0mprint\u001b[0m\u001b[1;33m(\u001b[0m\u001b[0mc3\u001b[0m\u001b[1;33m)\u001b[0m\u001b[1;33m\u001b[0m\u001b[1;33m\u001b[0m\u001b[0m\n\u001b[1;32m----> 3\u001b[1;33m \u001b[0mprint\u001b[0m\u001b[1;33m(\u001b[0m\u001b[0mc1\u001b[0m\u001b[1;33m.\u001b[0m\u001b[0mbreed\u001b[0m\u001b[1;33m(\u001b[0m\u001b[0mc3\u001b[0m\u001b[1;33m)\u001b[0m\u001b[1;33m)\u001b[0m\u001b[1;33m\u001b[0m\u001b[1;33m\u001b[0m\u001b[0m\n\u001b[0m",
      "\u001b[1;32m~\\AppData\\Local\\Temp/ipykernel_21036/892985932.py\u001b[0m in \u001b[0;36mbreed\u001b[1;34m(self, partner)\u001b[0m\n\u001b[0;32m     18\u001b[0m         \u001b[1;32melse\u001b[0m\u001b[1;33m:\u001b[0m\u001b[1;33m\u001b[0m\u001b[1;33m\u001b[0m\u001b[0m\n\u001b[0;32m     19\u001b[0m         \u001b[1;31m# dodatkowo jeśli te zwierzęta nie mogą mieć potomstwa zwraca błąd\u001b[0m\u001b[1;33m\u001b[0m\u001b[1;33m\u001b[0m\u001b[0m\n\u001b[1;32m---> 20\u001b[1;33m             \u001b[1;32mraise\u001b[0m \u001b[0mNameError\u001b[0m\u001b[1;33m(\u001b[0m\u001b[1;34m'These two animals cannot breed!'\u001b[0m\u001b[1;33m)\u001b[0m\u001b[1;33m\u001b[0m\u001b[1;33m\u001b[0m\u001b[0m\n\u001b[0m\u001b[0;32m     21\u001b[0m \u001b[1;33m\u001b[0m\u001b[0m\n\u001b[0;32m     22\u001b[0m \u001b[1;32mclass\u001b[0m \u001b[0mdog\u001b[0m\u001b[1;33m(\u001b[0m\u001b[0manimal\u001b[0m\u001b[1;33m)\u001b[0m\u001b[1;33m:\u001b[0m\u001b[1;33m\u001b[0m\u001b[1;33m\u001b[0m\u001b[0m\n",
      "\u001b[1;31mNameError\u001b[0m: These two animals cannot breed!"
     ]
    }
   ],
   "source": [
    "print(c1)\n",
    "print(c3)\n",
    "print(c1.breed(c3))"
   ]
  },
  {
   "cell_type": "code",
   "execution_count": 5,
   "id": "37a74a19-bfbe-4151-beb6-685684971e5e",
   "metadata": {},
   "outputs": [
    {
     "name": "stdout",
     "output_type": "stream",
     "text": [
      "This animal is a Female, Felis\n",
      "This animal is a Male, Canis\n"
     ]
    },
    {
     "ename": "NameError",
     "evalue": "These two animals cannot breed!",
     "output_type": "error",
     "traceback": [
      "\u001b[1;31m---------------------------------------------------------------------------\u001b[0m",
      "\u001b[1;31mNameError\u001b[0m                                 Traceback (most recent call last)",
      "\u001b[1;32m~\\AppData\\Local\\Temp/ipykernel_21036/3023319008.py\u001b[0m in \u001b[0;36m<module>\u001b[1;34m\u001b[0m\n\u001b[0;32m      1\u001b[0m \u001b[0mprint\u001b[0m\u001b[1;33m(\u001b[0m\u001b[0mc1\u001b[0m\u001b[1;33m)\u001b[0m\u001b[1;33m\u001b[0m\u001b[1;33m\u001b[0m\u001b[0m\n\u001b[0;32m      2\u001b[0m \u001b[0mprint\u001b[0m\u001b[1;33m(\u001b[0m\u001b[0md1\u001b[0m\u001b[1;33m)\u001b[0m\u001b[1;33m\u001b[0m\u001b[1;33m\u001b[0m\u001b[0m\n\u001b[1;32m----> 3\u001b[1;33m \u001b[0mprint\u001b[0m\u001b[1;33m(\u001b[0m\u001b[0mc1\u001b[0m\u001b[1;33m.\u001b[0m\u001b[0mbreed\u001b[0m\u001b[1;33m(\u001b[0m\u001b[0md1\u001b[0m\u001b[1;33m)\u001b[0m\u001b[1;33m)\u001b[0m\u001b[1;33m\u001b[0m\u001b[1;33m\u001b[0m\u001b[0m\n\u001b[0m",
      "\u001b[1;32m~\\AppData\\Local\\Temp/ipykernel_21036/892985932.py\u001b[0m in \u001b[0;36mbreed\u001b[1;34m(self, partner)\u001b[0m\n\u001b[0;32m     18\u001b[0m         \u001b[1;32melse\u001b[0m\u001b[1;33m:\u001b[0m\u001b[1;33m\u001b[0m\u001b[1;33m\u001b[0m\u001b[0m\n\u001b[0;32m     19\u001b[0m         \u001b[1;31m# dodatkowo jeśli te zwierzęta nie mogą mieć potomstwa zwraca błąd\u001b[0m\u001b[1;33m\u001b[0m\u001b[1;33m\u001b[0m\u001b[0m\n\u001b[1;32m---> 20\u001b[1;33m             \u001b[1;32mraise\u001b[0m \u001b[0mNameError\u001b[0m\u001b[1;33m(\u001b[0m\u001b[1;34m'These two animals cannot breed!'\u001b[0m\u001b[1;33m)\u001b[0m\u001b[1;33m\u001b[0m\u001b[1;33m\u001b[0m\u001b[0m\n\u001b[0m\u001b[0;32m     21\u001b[0m \u001b[1;33m\u001b[0m\u001b[0m\n\u001b[0;32m     22\u001b[0m \u001b[1;32mclass\u001b[0m \u001b[0mdog\u001b[0m\u001b[1;33m(\u001b[0m\u001b[0manimal\u001b[0m\u001b[1;33m)\u001b[0m\u001b[1;33m:\u001b[0m\u001b[1;33m\u001b[0m\u001b[1;33m\u001b[0m\u001b[0m\n",
      "\u001b[1;31mNameError\u001b[0m: These two animals cannot breed!"
     ]
    }
   ],
   "source": [
    "print(c1)\n",
    "print(d1)\n",
    "print(c1.breed(d1))"
   ]
  },
  {
   "cell_type": "code",
   "execution_count": 6,
   "id": "6c47a02f-c7ed-4668-be1a-42273f301b38",
   "metadata": {},
   "outputs": [
    {
     "name": "stdout",
     "output_type": "stream",
     "text": [
      "This animal is a Male, Canis\n",
      "This animal is a None, Canis\n"
     ]
    },
    {
     "ename": "AssertionError",
     "evalue": "string attribute not found",
     "output_type": "error",
     "traceback": [
      "\u001b[1;31m---------------------------------------------------------------------------\u001b[0m",
      "\u001b[1;31mAssertionError\u001b[0m                            Traceback (most recent call last)",
      "\u001b[1;32m~\\AppData\\Local\\Temp/ipykernel_21036/1684529886.py\u001b[0m in \u001b[0;36m<module>\u001b[1;34m\u001b[0m\n\u001b[0;32m      1\u001b[0m \u001b[0mprint\u001b[0m\u001b[1;33m(\u001b[0m\u001b[0md1\u001b[0m\u001b[1;33m)\u001b[0m\u001b[1;33m\u001b[0m\u001b[1;33m\u001b[0m\u001b[0m\n\u001b[0;32m      2\u001b[0m \u001b[0mprint\u001b[0m\u001b[1;33m(\u001b[0m\u001b[0md3\u001b[0m\u001b[1;33m)\u001b[0m\u001b[1;33m\u001b[0m\u001b[1;33m\u001b[0m\u001b[0m\n\u001b[1;32m----> 3\u001b[1;33m \u001b[0mprint\u001b[0m\u001b[1;33m(\u001b[0m\u001b[0md1\u001b[0m\u001b[1;33m.\u001b[0m\u001b[0mbreed\u001b[0m\u001b[1;33m(\u001b[0m\u001b[0md3\u001b[0m\u001b[1;33m)\u001b[0m\u001b[1;33m)\u001b[0m\u001b[1;33m\u001b[0m\u001b[1;33m\u001b[0m\u001b[0m\n\u001b[0m",
      "\u001b[1;32m~\\AppData\\Local\\Temp/ipykernel_21036/892985932.py\u001b[0m in \u001b[0;36mbreed\u001b[1;34m(self, partner)\u001b[0m\n\u001b[0;32m     12\u001b[0m             \u001b[1;32mreturn\u001b[0m \u001b[1;34m'This animal is dead'\u001b[0m\u001b[1;33m\u001b[0m\u001b[1;33m\u001b[0m\u001b[0m\n\u001b[0;32m     13\u001b[0m     \u001b[1;32mdef\u001b[0m \u001b[0mbreed\u001b[0m\u001b[1;33m(\u001b[0m\u001b[0mself\u001b[0m\u001b[1;33m,\u001b[0m \u001b[0mpartner\u001b[0m\u001b[1;33m)\u001b[0m\u001b[1;33m:\u001b[0m\u001b[1;33m\u001b[0m\u001b[1;33m\u001b[0m\u001b[0m\n\u001b[1;32m---> 14\u001b[1;33m         \u001b[1;32massert\u001b[0m \u001b[0mpartner\u001b[0m\u001b[1;33m.\u001b[0m\u001b[0mgender\u001b[0m \u001b[1;32min\u001b[0m \u001b[1;33m[\u001b[0m\u001b[1;34m'Male'\u001b[0m\u001b[1;33m,\u001b[0m \u001b[1;34m'Female'\u001b[0m\u001b[1;33m]\u001b[0m\u001b[1;33m,\u001b[0m \u001b[1;34m'string attribute not found'\u001b[0m\u001b[1;33m\u001b[0m\u001b[1;33m\u001b[0m\u001b[0m\n\u001b[0m\u001b[0;32m     15\u001b[0m         \u001b[1;32massert\u001b[0m \u001b[0mpartner\u001b[0m\u001b[1;33m.\u001b[0m\u001b[0mgenus\u001b[0m \u001b[1;32min\u001b[0m \u001b[1;33m[\u001b[0m\u001b[1;34m'Canis'\u001b[0m\u001b[1;33m,\u001b[0m \u001b[1;34m'Felis'\u001b[0m\u001b[1;33m]\u001b[0m\u001b[1;33m,\u001b[0m \u001b[1;34m'string attribute not found'\u001b[0m\u001b[1;33m\u001b[0m\u001b[1;33m\u001b[0m\u001b[0m\n\u001b[0;32m     16\u001b[0m         \u001b[1;32mif\u001b[0m \u001b[0mself\u001b[0m\u001b[1;33m.\u001b[0m\u001b[0mgender\u001b[0m \u001b[1;33m==\u001b[0m \u001b[1;34m'Female'\u001b[0m \u001b[1;32mand\u001b[0m \u001b[0mpartner\u001b[0m\u001b[1;33m.\u001b[0m\u001b[0mgender\u001b[0m \u001b[1;33m==\u001b[0m \u001b[1;34m'Male'\u001b[0m \u001b[1;32mand\u001b[0m \u001b[0mself\u001b[0m\u001b[1;33m.\u001b[0m\u001b[0mgenus\u001b[0m \u001b[1;33m==\u001b[0m \u001b[0mpartner\u001b[0m\u001b[1;33m.\u001b[0m\u001b[0mgenus\u001b[0m\u001b[1;33m:\u001b[0m\u001b[1;33m\u001b[0m\u001b[1;33m\u001b[0m\u001b[0m\n",
      "\u001b[1;31mAssertionError\u001b[0m: string attribute not found"
     ]
    }
   ],
   "source": [
    "print(d1)\n",
    "print(d3)\n",
    "print(d1.breed(d3))"
   ]
  },
  {
   "cell_type": "code",
   "execution_count": 7,
   "id": "e0817120-0266-4975-9c45-d8ba3e3159bd",
   "metadata": {},
   "outputs": [
    {
     "data": {
      "text/plain": [
       "'purr'"
      ]
     },
     "execution_count": 7,
     "metadata": {},
     "output_type": "execute_result"
    }
   ],
   "source": [
    "c1.purr()"
   ]
  },
  {
   "cell_type": "code",
   "execution_count": 8,
   "id": "2f020067-f690-4641-801d-16ce8988b951",
   "metadata": {},
   "outputs": [
    {
     "data": {
      "text/plain": [
       "'woof woof'"
      ]
     },
     "execution_count": 8,
     "metadata": {},
     "output_type": "execute_result"
    }
   ],
   "source": [
    "d1.woof_woof()"
   ]
  },
  {
   "cell_type": "markdown",
   "id": "03913edb-5d01-4347-9df5-cff232aa82ac",
   "metadata": {},
   "source": [
    "# Zadanie 2"
   ]
  },
  {
   "cell_type": "markdown",
   "id": "1a1a75b6-6123-47fb-96cc-7ad1c161157a",
   "metadata": {},
   "source": [
    "Stwórz klasę worker.  \n",
    "Klasa ma atrybut salary, zwracającą wynagrodzenie.  \n",
    "Stwórz instancje klasy, o danych wartościach:  \n",
    "\n",
    "|     Number    |     Name       |     Age     |     Salary    |\n",
    "|---------------|----------------|-------------|---------------|\n",
    "|     1         |     Adam       |     1983    |     1500      |\n",
    "|     2         |     Anna       |     1981    |     1700      |\n",
    "|     3         |     Błażej     |     1990    |     1800      |\n",
    "|     4         |     Beata      |     1992    |     1600      |\n",
    "|     5         |     Czesław    |     1980    |     2000      |\n",
    "|     6         |     Cecylia    |     1983    |     2100      |\n",
    "|     7         |     Daniel     |     1976    |     1900      |\n",
    "\n",
    "Napisz instrukcję, które:  \n",
    "- policzy średnie zarobki w firmie  \n",
    "- porówna średni zarobek wśród osób młodszych niż 30 lat i starszych.\n"
   ]
  },
  {
   "cell_type": "code",
   "execution_count": 10,
   "id": "574c260c-0eab-4de6-a2ec-6abaa9f46493",
   "metadata": {},
   "outputs": [],
   "source": [
    "class worker():\n",
    "    def __init__(self, name, age, salary):\n",
    "        self.name = name\n",
    "        self.age = age\n",
    "        self.salary = salary"
   ]
  },
  {
   "cell_type": "code",
   "execution_count": 11,
   "id": "e9f3f535-026a-46e8-9096-13d18223d9d3",
   "metadata": {},
   "outputs": [],
   "source": [
    "w1 = worker('Adam',1983,1500)\n",
    "w2 = worker('Anna',1981,1700)\n",
    "w3 = worker('Błażej',1990,1800)\n",
    "w4 = worker('Beata',1992,1600)\n",
    "w5 = worker('Czesław',1980,2000)\n",
    "w6 = worker('Cecylia',1983,2100)\n",
    "w7 = worker('Daniel',1976,1900)\n",
    "\n",
    "all_workers = [w1,w2,w3,w4,w5,w6,w7]"
   ]
  },
  {
   "cell_type": "code",
   "execution_count": 12,
   "id": "2f7ebe13-4e62-4764-99d6-fcfe0ebfa66a",
   "metadata": {},
   "outputs": [],
   "source": [
    "def calculate_mean_salary(all_workers : list, comma_vals : int = 3):\n",
    "    \"\"\"\n",
    "    obliczanie średniej pensji wszyskich pracowników\n",
    "    zaokrąglenie do comma_vals miejsc po przecinku\n",
    "    \"\"\"\n",
    "    all_salaries = [x.salary for x in all_workers]\n",
    "    number_of_workers = len(all_workers)\n",
    "    sum_of_salaries = 0\n",
    "    for i in all_salaries:\n",
    "        sum_of_salaries += i\n",
    "    mean_salary = round(sum_of_salaries / number_of_workers, comma_vals)\n",
    "    return mean_salary"
   ]
  },
  {
   "cell_type": "code",
   "execution_count": 13,
   "id": "371ba8e8-2135-4c2a-8726-89bdac2881af",
   "metadata": {},
   "outputs": [
    {
     "name": "stdout",
     "output_type": "stream",
     "text": [
      "Średnia pensja wszyskich pracowników wynosi 1800.0\n"
     ]
    }
   ],
   "source": [
    "mean_salary = calculate_mean_salary(all_workers)\n",
    "print(f'Średnia pensja wszyskich pracowników wynosi {mean_salary}')"
   ]
  },
  {
   "cell_type": "code",
   "execution_count": 25,
   "id": "3073126d-6258-4352-9858-37b6b86dd88f",
   "metadata": {},
   "outputs": [],
   "source": [
    "def compare_mean_salaries_between_age_groups(all_workers : list, current_year :int = 2022, \\\n",
    "                                             cutoff_age : int = 30):\n",
    "    cutoff_year = current_year-cutoff_age\n",
    "    younger_workers = [x for x in all_workers if x.age >= cutoff_year]\n",
    "    older_workers = [x for x in all_workers if x.age < cutoff_year]\n",
    "    younger_mean = calculate_mean_salary(younger_workers)\n",
    "    older_mean = calculate_mean_salary(older_workers)\n",
    "    difference = round(younger_mean - older_mean, 2)\n",
    "    if difference > 0:\n",
    "        final_statement = f'Średnia pensja osób w wieku {cutoff_age} i mniejszym jest o {difference} większa niż średnia pensja osób w wieku powyżej {cutoff_age}'''\n",
    "    elif difference < 0:\n",
    "        final_statement = f'''Średnia pensja osób w wieku {cutoff_age} i mniejszym jest o {abs(difference)} mniejsza niż średnia pensja osób w wieku powyżej {cutoff_age}'''\n",
    "    else:\n",
    "        final_statement = f'''Średnia pensja osób w wieku {cutoff_age} i mniejszym jest o taka sama jak średnia pensja osób w wieku powyżej {cutoff_age}'''\n",
    "    return final_statement"
   ]
  },
  {
   "cell_type": "code",
   "execution_count": 26,
   "id": "87ba9201-e067-4d57-b5aa-5a40d966a76d",
   "metadata": {},
   "outputs": [
    {
     "data": {
      "text/plain": [
       "'Średnia pensja osób w wieku 30 i mniejszym jest o 233.33 mniejsza niż średnia pensja osób w wieku powyżej 30'"
      ]
     },
     "execution_count": 26,
     "metadata": {},
     "output_type": "execute_result"
    }
   ],
   "source": [
    "compare_mean_salaries_between_age_groups(all_workers)"
   ]
  }
 ],
 "metadata": {
  "kernelspec": {
   "display_name": "Python 3 (ipykernel)",
   "language": "python",
   "name": "python3"
  },
  "language_info": {
   "codemirror_mode": {
    "name": "ipython",
    "version": 3
   },
   "file_extension": ".py",
   "mimetype": "text/x-python",
   "name": "python",
   "nbconvert_exporter": "python",
   "pygments_lexer": "ipython3",
   "version": "3.9.7"
  }
 },
 "nbformat": 4,
 "nbformat_minor": 5
}
