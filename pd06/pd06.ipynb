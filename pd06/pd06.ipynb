{
 "cells": [
  {
   "cell_type": "code",
   "execution_count": 1,
   "outputs": [],
   "source": [
    "from selenium import webdriver\n",
    "from selenium.webdriver.common.by import By\n",
    "import time\n",
    "import re\n",
    "import urllib"
   ],
   "metadata": {
    "collapsed": false,
    "pycharm": {
     "name": "#%%\n"
    }
   }
  },
  {
   "cell_type": "markdown",
   "source": [
    "# Zadanie 1 (1 pk)\n",
    "Wejdź na stronę https://www.pap.pl/ i sprawdź czy pozwala ona na web scraping sprawdzając plik robots.txt"
   ],
   "metadata": {
    "collapsed": false,
    "pycharm": {
     "name": "#%% md\n"
    }
   }
  },
  {
   "cell_type": "code",
   "execution_count": 2,
   "outputs": [],
   "source": [
    "# tak, zakazane są konkretne strony i foldery głównie dotyczące logowania i tworzenia konta"
   ],
   "metadata": {
    "collapsed": false,
    "pycharm": {
     "name": "#%%\n"
    }
   }
  },
  {
   "cell_type": "markdown",
   "source": [
    "# Zadanie 2 (8 pkt)\n",
    "Stwórz obiekt driver, który połączy się ze stroną Polskiej Agencji Prasowej. A następnie:\n",
    "a.\tZaakceptuje pliki cookies\n",
    "b.\tZwiększy okno przeglądarki na cały ekran\n",
    "c.\tZmieni język strony na angielski\n",
    "d.\tWejdzie w sekcję Business\n",
    "e.\tZ sekcji business  ściągnie wszystkie tytuły do listy titles\n",
    "f.\tŚciągnie wszystkie zdjęcia z tej sekcji na dysk lokalny\n",
    "g.\tZjedzie na dół strony\n",
    "h.\tPrzejdzie na ostatnią stronę i zwróci printem jej numer (atrybut text)"
   ],
   "metadata": {
    "collapsed": false,
    "pycharm": {
     "name": "#%% md\n"
    }
   }
  },
  {
   "cell_type": "code",
   "execution_count": 2,
   "outputs": [
    {
     "name": "stdout",
     "output_type": "stream",
     "text": [
      "[\"Poland to issue bonds linked to central bank's rates\", 'Government to offer support to Polish borrowers PM says', 'PM says no return to old geopolitical order', 'Government suggests income tax cut', \"Poland's central bank surprises market with 100 bps interest rate hike\", 'Poland involved in seizing Russian money, says PM', \"PM announces 'anti-Putin shield' against effects of Russia-Ukraine war\"]\n",
      "73\n"
     ]
    }
   ],
   "source": [
    "driver = webdriver.Chrome()\n",
    "driver.get('https://www.pap.pl/')\n",
    "# a. Zaakceptuje pliki cookies\n",
    "cookies = driver.find_element(by=By.XPATH, value='//*[@id=\"cookie\"]/div/div/div/div/div/div[2]')\n",
    "cookies.click()\n",
    "# b. Zwiększy okno przeglądarki na cały ekran\n",
    "driver.maximize_window()\n",
    "# c. Zmieni język strony na angielski\n",
    "english = driver.find_element(by=By.XPATH, value='//*[@id=\"navbar\"]/ul[2]/li[3]/a')\n",
    "english.click()\n",
    "\n",
    "time.sleep(4)\n",
    "\n",
    "# d. Wejdzie w sekcję Business\n",
    "business = driver.find_element(by=By.XPATH, value='//*[@id=\"block-mainnavigationen\"]/ul/li[3]/a')\n",
    "business.click()\n",
    "\n",
    "time.sleep(2)\n",
    "\n",
    "# # e. Z sekcji business ściągnie wszystkie tytuły do listy titles\n",
    "titles = []\n",
    "try:\n",
    "    titles.append(driver.find_element(by=By.XPATH, value='/html/body/div[1]/div[2]/section[2]/div/div[2]/div[1]/div[2]/div/div/div/div[1]/div[2]/h1/a').text)\n",
    "except:\n",
    "    pass\n",
    "for i in range(10):\n",
    "    try:\n",
    "        titles.append(driver.find_element(by=By.XPATH, value=f'/html/body/div[1]/div[2]/section[2]/div/div[2]/div[1]/div[2]/div/div/div/div[2]/div/ul/li[{i}]/div[2]/h2/a').text)\n",
    "    except:\n",
    "        pass\n",
    "print(titles)\n",
    "\n",
    "# f. Ściągnie wszystkie zdjęcia z tej sekcji na dysk lokalny\n",
    "img = driver.find_element(by=By.XPATH, value='/html/body/div[1]/div[2]/section[2]/div/div[2]/div[1]/div[2]/div/div/div/div[1]/div[1]/a/img').get_attribute('src')\n",
    "urllib.request.urlretrieve(img, 'img/zdjecie1.png')\n",
    "for i in range(10):\n",
    "    try:\n",
    "        img = driver.find_element(by=By.XPATH, value=f'/html/body/div[1]/div[2]/section[2]/div/div[2]/div[1]/div[2]/div/div/div/div[2]/div/ul/li[{i}]/div[1]/a/img').get_attribute('src')\n",
    "        urllib.request.urlretrieve(img, f'img/malezdjecie{i}.png')\n",
    "    except:\n",
    "        pass\n",
    "\n",
    "# g. Zjedzie na dół strony\n",
    "driver.execute_script('window.scrollBy(0,1500)')\n",
    "\n",
    "# h. Przejdzie na ostatnią stronę i zwróci printem jej numer (atrybut text)\n",
    "driver.find_element(by=By.XPATH, value='/html/body/div[1]/div[2]/section[2]/div/div[2]/div[1]/div[2]/div/nav/ul/li[5]/a/span[2]').click()\n",
    "print(driver.find_element(by=By.XPATH, value='/html/body/div[1]/div[2]/section[2]/div/div[2]/div[1]/div[2]/div/nav/ul/li[5]/a').text)\n",
    "\n",
    "time.sleep(2)\n",
    "driver.quit()"
   ],
   "metadata": {
    "collapsed": false,
    "pycharm": {
     "name": "#%%\n"
    }
   }
  },
  {
   "cell_type": "code",
   "execution_count": null,
   "outputs": [],
   "source": [],
   "metadata": {
    "collapsed": false,
    "pycharm": {
     "name": "#%%\n"
    }
   }
  }
 ],
 "metadata": {
  "kernelspec": {
   "display_name": "Python 3",
   "language": "python",
   "name": "python3"
  },
  "language_info": {
   "codemirror_mode": {
    "name": "ipython",
    "version": 2
   },
   "file_extension": ".py",
   "mimetype": "text/x-python",
   "name": "python",
   "nbconvert_exporter": "python",
   "pygments_lexer": "ipython2",
   "version": "2.7.6"
  }
 },
 "nbformat": 4,
 "nbformat_minor": 0
}