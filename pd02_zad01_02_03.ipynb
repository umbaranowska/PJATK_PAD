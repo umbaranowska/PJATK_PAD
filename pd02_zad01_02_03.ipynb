{
 "cells": [
  {
   "cell_type": "markdown",
   "id": "51e79807-2d6e-4290-92eb-6b4a26da0c2f",
   "metadata": {
    "tags": []
   },
   "source": [
    "# Zadanie 1 \n",
    "Napisz program w Pythonie, który utworzy funkcję lambda, która dodaje 15 do podanej liczby przekazanej jako argument, stwórz również funkcję lambda, która mnoży argument x przez argument y i wypisz wynik."
   ]
  },
  {
   "cell_type": "code",
   "execution_count": 1,
   "id": "fb931e7a-4def-47a2-b46c-8026eeb2ee20",
   "metadata": {},
   "outputs": [],
   "source": [
    "lambda x: x+15\n",
    "dodaj_15 = lambda x: x+15"
   ]
  },
  {
   "cell_type": "code",
   "execution_count": 2,
   "id": "876ce216-be52-4176-860b-a13d924edff2",
   "metadata": {},
   "outputs": [
    {
     "name": "stdout",
     "output_type": "stream",
     "text": [
      "19\n",
      "19\n"
     ]
    }
   ],
   "source": [
    "# przykład\n",
    "print((lambda x: x+15)(4))\n",
    "print(dodaj_15(4))"
   ]
  },
  {
   "cell_type": "code",
   "execution_count": 3,
   "id": "b84487e5-4a6d-43d4-bc29-ee716f982a03",
   "metadata": {},
   "outputs": [],
   "source": [
    "lambda x,y: x*y\n",
    "mnozenie = lambda x,y: x*y"
   ]
  },
  {
   "cell_type": "code",
   "execution_count": 4,
   "id": "a0dc7200-0f93-4aaf-b1dc-beee7f51ea90",
   "metadata": {},
   "outputs": [
    {
     "name": "stdout",
     "output_type": "stream",
     "text": [
      "6\n",
      "20\n"
     ]
    }
   ],
   "source": [
    "# przykład\n",
    "print((lambda x,y: x*y)(2,3))\n",
    "print(mnozenie(4,5))"
   ]
  },
  {
   "cell_type": "markdown",
   "id": "4703516a-25f7-4712-b5e8-98fe93d043b9",
   "metadata": {},
   "source": [
    "# Zadanie 2\n",
    "Napisz program w Pythonie do sortowania listy słowników za pomocą Lambda.\n",
    "[{'make': 'Nokia', 'model': 216, 'color': 'Black'}, {'make': 'Mi Max', 'model': '2', 'color': 'Gold'}, {'make': 'Samsung', 'model': 7, 'color': 'Blue'}]"
   ]
  },
  {
   "cell_type": "code",
   "execution_count": null,
   "id": "bc6ef27f-d809-4242-b6d7-cf0fef3e646a",
   "metadata": {},
   "outputs": [],
   "source": []
  },
  {
   "cell_type": "markdown",
   "id": "a9ae2294-c08f-4efc-b347-6f7fc6936d7b",
   "metadata": {
    "tags": []
   },
   "source": [
    "# Zadanie 3\n",
    "Napisz program w Pythonie, który podniesie do kwadratu i sześcianu każdą liczbę z podanej listy liczb całkowitych za pomocą Lambda.\n",
    "[1, 2, 3, 4, 5, 6, 7, 8, 9, 10]"
   ]
  },
  {
   "cell_type": "code",
   "execution_count": 5,
   "id": "7ffc0ab4-528d-48ad-97fa-70ebe02ee25a",
   "metadata": {},
   "outputs": [
    {
     "data": {
      "text/plain": [
       "(9, 27)"
      ]
     },
     "execution_count": 5,
     "metadata": {},
     "output_type": "execute_result"
    }
   ],
   "source": [
    "(lambda x : (x**2, x**3))(3)"
   ]
  },
  {
   "cell_type": "code",
   "execution_count": 6,
   "id": "1d003a72-e822-4e59-9f49-96836d5b8a65",
   "metadata": {},
   "outputs": [
    {
     "data": {
      "text/plain": [
       "[(1, 1),\n",
       " (4, 8),\n",
       " (9, 27),\n",
       " (16, 64),\n",
       " (25, 125),\n",
       " (36, 216),\n",
       " (49, 343),\n",
       " (64, 512),\n",
       " (81, 729),\n",
       " (100, 1000)]"
      ]
     },
     "execution_count": 6,
     "metadata": {},
     "output_type": "execute_result"
    }
   ],
   "source": [
    "(lambda lista : [(x**2, x**3) for x in lista])([1, 2, 3, 4, 5, 6, 7, 8, 9, 10])"
   ]
  }
 ],
 "metadata": {
  "kernelspec": {
   "display_name": "Python 3 (ipykernel)",
   "language": "python",
   "name": "python3"
  },
  "language_info": {
   "codemirror_mode": {
    "name": "ipython",
    "version": 3
   },
   "file_extension": ".py",
   "mimetype": "text/x-python",
   "name": "python",
   "nbconvert_exporter": "python",
   "pygments_lexer": "ipython3",
   "version": "3.9.7"
  }
 },
 "nbformat": 4,
 "nbformat_minor": 5
}
