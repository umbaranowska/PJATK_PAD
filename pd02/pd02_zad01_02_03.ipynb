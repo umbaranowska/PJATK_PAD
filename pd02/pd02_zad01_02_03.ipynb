{
 "cells": [
  {
   "cell_type": "markdown",
   "id": "51e79807-2d6e-4290-92eb-6b4a26da0c2f",
   "metadata": {
    "tags": []
   },
   "source": [
    "# Zadanie 1 \n",
    "Napisz program w Pythonie, który utworzy funkcję lambda, która dodaje 15 do podanej liczby przekazanej jako argument, stwórz również funkcję lambda, która mnoży argument x przez argument y i wypisz wynik."
   ]
  },
  {
   "cell_type": "code",
   "execution_count": 1,
   "id": "fb931e7a-4def-47a2-b46c-8026eeb2ee20",
   "metadata": {},
   "outputs": [],
   "source": [
    "lambda x: x+15\n",
    "dodaj_15 = lambda x: x+15"
   ]
  },
  {
   "cell_type": "code",
   "execution_count": 2,
   "id": "876ce216-be52-4176-860b-a13d924edff2",
   "metadata": {},
   "outputs": [
    {
     "name": "stdout",
     "output_type": "stream",
     "text": [
      "19\n",
      "19\n"
     ]
    }
   ],
   "source": [
    "# przykład\n",
    "print((lambda x: x+15)(4))\n",
    "print(dodaj_15(4))"
   ]
  },
  {
   "cell_type": "code",
   "execution_count": 3,
   "id": "b84487e5-4a6d-43d4-bc29-ee716f982a03",
   "metadata": {},
   "outputs": [],
   "source": [
    "lambda x,y: x*y\n",
    "mnozenie = lambda x,y: x*y"
   ]
  },
  {
   "cell_type": "code",
   "execution_count": 4,
   "id": "a0dc7200-0f93-4aaf-b1dc-beee7f51ea90",
   "metadata": {},
   "outputs": [
    {
     "name": "stdout",
     "output_type": "stream",
     "text": [
      "6\n",
      "20\n"
     ]
    }
   ],
   "source": [
    "# przykład\n",
    "print((lambda x,y: x*y)(2,3))\n",
    "print(mnozenie(4,5))"
   ]
  },
  {
   "cell_type": "markdown",
   "id": "4703516a-25f7-4712-b5e8-98fe93d043b9",
   "metadata": {},
   "source": [
    "# Zadanie 2\n",
    "Napisz program w Pythonie do sortowania listy słowników za pomocą Lambda.\n",
    "[{'make': 'Nokia', 'model': 216, 'color': 'Black'}, {'make': 'Mi Max', 'model': 2, 'color': 'Gold'}, {'make': 'Samsung', 'model': 7, 'color': 'Blue'}]"
   ]
  },
  {
   "cell_type": "code",
   "execution_count": 5,
   "id": "bc6ef27f-d809-4242-b6d7-cf0fef3e646a",
   "metadata": {},
   "outputs": [],
   "source": [
    "dict_list = [{'make': 'Nokia', 'model': 216, 'color': 'Black'},\\\n",
    "             {'make': 'Mi Max', 'model': 2, 'color': 'Gold'},\\\n",
    "             {'make': 'Samsung', 'model': 7, 'color': 'Blue'}]\n",
    "\n",
    "sorting_key = 'make'"
   ]
  },
  {
   "cell_type": "code",
   "execution_count": 6,
   "id": "3248753e-2212-4648-9762-eb702795bc5a",
   "metadata": {},
   "outputs": [
    {
     "name": "stdout",
     "output_type": "stream",
     "text": [
      "Return a new list containing all items from the iterable in ascending order.\n",
      "\n",
      "A custom key function can be supplied to customize the sort order, and the\n",
      "reverse flag can be set to request the result in descending order.\n"
     ]
    }
   ],
   "source": [
    "print(sorted.__doc__)\n",
    "# A custom key function can be supplied to customize the sort order - tutaj można wstawić lambdę"
   ]
  },
  {
   "cell_type": "code",
   "execution_count": 7,
   "id": "f6f30491-c272-4e07-8d3c-138047af712b",
   "metadata": {},
   "outputs": [
    {
     "data": {
      "text/plain": [
       "[{'make': 'Mi Max', 'model': 2, 'color': 'Gold'},\n",
       " {'make': 'Nokia', 'model': 216, 'color': 'Black'},\n",
       " {'make': 'Samsung', 'model': 7, 'color': 'Blue'}]"
      ]
     },
     "execution_count": 7,
     "metadata": {},
     "output_type": "execute_result"
    }
   ],
   "source": [
    "# czyli na przykład tak:\n",
    "sorted(dict_list, key = lambda dictionary : dictionary['make'])"
   ]
  },
  {
   "cell_type": "code",
   "execution_count": 8,
   "id": "8bebc735-935e-43a5-8f58-6d5f209dc2e1",
   "metadata": {},
   "outputs": [],
   "source": [
    "# drugim argumentem jest klucz, według wartości dla tego klucza sortujemy listę\n",
    "sort_dict_list = lambda dict_list, sorting_key: sorted(dict_list, key = lambda dictionary : dictionary[sorting_key])"
   ]
  },
  {
   "cell_type": "code",
   "execution_count": 9,
   "id": "1a27bd94-9542-4d7c-b8a3-1d5220475b9b",
   "metadata": {},
   "outputs": [
    {
     "name": "stdout",
     "output_type": "stream",
     "text": [
      "[{'make': 'Mi Max', 'model': 2, 'color': 'Gold'}, {'make': 'Nokia', 'model': 216, 'color': 'Black'}, {'make': 'Samsung', 'model': 7, 'color': 'Blue'}]\n",
      "[{'make': 'Mi Max', 'model': 2, 'color': 'Gold'}, {'make': 'Samsung', 'model': 7, 'color': 'Blue'}, {'make': 'Nokia', 'model': 216, 'color': 'Black'}]\n",
      "[{'make': 'Nokia', 'model': 216, 'color': 'Black'}, {'make': 'Samsung', 'model': 7, 'color': 'Blue'}, {'make': 'Mi Max', 'model': 2, 'color': 'Gold'}]\n"
     ]
    }
   ],
   "source": [
    "# przykłady\n",
    "print(sort_dict_list(dict_list, 'make'))\n",
    "print(sort_dict_list(dict_list, 'model'))\n",
    "print(sort_dict_list(dict_list, 'color'))"
   ]
  },
  {
   "cell_type": "markdown",
   "id": "a9ae2294-c08f-4efc-b347-6f7fc6936d7b",
   "metadata": {
    "tags": []
   },
   "source": [
    "# Zadanie 3\n",
    "Napisz program w Pythonie, który podniesie do kwadratu i sześcianu każdą liczbę z podanej listy liczb całkowitych za pomocą Lambda.\n",
    "[1, 2, 3, 4, 5, 6, 7, 8, 9, 10]"
   ]
  },
  {
   "cell_type": "code",
   "execution_count": 10,
   "id": "7ffc0ab4-528d-48ad-97fa-70ebe02ee25a",
   "metadata": {},
   "outputs": [
    {
     "data": {
      "text/plain": [
       "(9, 27)"
      ]
     },
     "execution_count": 10,
     "metadata": {},
     "output_type": "execute_result"
    }
   ],
   "source": [
    "(lambda x : (x**2, x**3))(3)"
   ]
  },
  {
   "cell_type": "code",
   "execution_count": 11,
   "id": "1d003a72-e822-4e59-9f49-96836d5b8a65",
   "metadata": {},
   "outputs": [
    {
     "data": {
      "text/plain": [
       "[(1, 1),\n",
       " (4, 8),\n",
       " (9, 27),\n",
       " (16, 64),\n",
       " (25, 125),\n",
       " (36, 216),\n",
       " (49, 343),\n",
       " (64, 512),\n",
       " (81, 729),\n",
       " (100, 1000)]"
      ]
     },
     "execution_count": 11,
     "metadata": {},
     "output_type": "execute_result"
    }
   ],
   "source": [
    "(lambda lista : [(x**2, x**3) for x in lista])([1, 2, 3, 4, 5, 6, 7, 8, 9, 10])"
   ]
  }
 ],
 "metadata": {
  "kernelspec": {
   "display_name": "Python 3 (ipykernel)",
   "language": "python",
   "name": "python3"
  },
  "language_info": {
   "codemirror_mode": {
    "name": "ipython",
    "version": 3
   },
   "file_extension": ".py",
   "mimetype": "text/x-python",
   "name": "python",
   "nbconvert_exporter": "python",
   "pygments_lexer": "ipython3",
   "version": "3.9.7"
  }
 },
 "nbformat": 4,
 "nbformat_minor": 5
}
